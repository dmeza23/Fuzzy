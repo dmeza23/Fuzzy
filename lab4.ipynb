{
  "nbformat": 4,
  "nbformat_minor": 0,
  "metadata": {
    "colab": {
      "name": "lab4.ipynb",
      "provenance": [],
      "collapsed_sections": [],
      "include_colab_link": true
    },
    "kernelspec": {
      "name": "python3",
      "display_name": "Python 3"
    },
    "language_info": {
      "name": "python"
    }
  },
  "cells": [
    {
      "cell_type": "markdown",
      "metadata": {
        "id": "view-in-github",
        "colab_type": "text"
      },
      "source": [
        "<a href=\"https://colab.research.google.com/github/my000own000files1/Fuzzy/blob/main/lab4.ipynb\" target=\"_parent\"><img src=\"https://colab.research.google.com/assets/colab-badge.svg\" alt=\"Open In Colab\"/></a>"
      ]
    },
    {
      "cell_type": "markdown",
      "metadata": {
        "id": "cvHZTSd8feAS"
      },
      "source": [
        "\\[\\begin{cases} \\frac{dx}{dt}=\\dot{x} \\\\ \\frac{d\\dot{x}}{dt}=-6\\dot{x}-x-u(t)   \\end{cases} \\]\n",
        "$$y(t)=x(t)$$"
      ]
    },
    {
      "cell_type": "code",
      "metadata": {
        "id": "tD18KDkyD34o",
        "colab": {
          "base_uri": "https://localhost:8080/"
        },
        "outputId": "88fee42e-79fd-407e-bd93-e69f52d6c7d8"
      },
      "source": [
        "!pip install -U scikit-fuzzy"
      ],
      "execution_count": 16,
      "outputs": [
        {
          "output_type": "stream",
          "text": [
            "Requirement already up-to-date: scikit-fuzzy in /usr/local/lib/python3.7/dist-packages (0.4.2)\n",
            "Requirement already satisfied, skipping upgrade: scipy>=0.9.0 in /usr/local/lib/python3.7/dist-packages (from scikit-fuzzy) (1.4.1)\n",
            "Requirement already satisfied, skipping upgrade: networkx>=1.9.0 in /usr/local/lib/python3.7/dist-packages (from scikit-fuzzy) (2.5.1)\n",
            "Requirement already satisfied, skipping upgrade: numpy>=1.6.0 in /usr/local/lib/python3.7/dist-packages (from scikit-fuzzy) (1.19.5)\n",
            "Requirement already satisfied, skipping upgrade: decorator<5,>=4.3 in /usr/local/lib/python3.7/dist-packages (from networkx>=1.9.0->scikit-fuzzy) (4.4.2)\n"
          ],
          "name": "stdout"
        }
      ]
    },
    {
      "cell_type": "code",
      "metadata": {
        "id": "C65Eh33CQ6BS",
        "colab": {
          "base_uri": "https://localhost:8080/"
        },
        "outputId": "88e41f67-6b97-4d7a-fd14-cddd4bbefd53"
      },
      "source": [
        "  !pip install -U control"
      ],
      "execution_count": 17,
      "outputs": [
        {
          "output_type": "stream",
          "text": [
            "Requirement already up-to-date: control in /usr/local/lib/python3.7/dist-packages (0.9.0)\n",
            "Requirement already satisfied, skipping upgrade: scipy in /usr/local/lib/python3.7/dist-packages (from control) (1.4.1)\n",
            "Requirement already satisfied, skipping upgrade: numpy in /usr/local/lib/python3.7/dist-packages (from control) (1.19.5)\n",
            "Requirement already satisfied, skipping upgrade: matplotlib in /usr/local/lib/python3.7/dist-packages (from control) (3.2.2)\n",
            "Requirement already satisfied, skipping upgrade: pyparsing!=2.0.4,!=2.1.2,!=2.1.6,>=2.0.1 in /usr/local/lib/python3.7/dist-packages (from matplotlib->control) (2.4.7)\n",
            "Requirement already satisfied, skipping upgrade: kiwisolver>=1.0.1 in /usr/local/lib/python3.7/dist-packages (from matplotlib->control) (1.3.1)\n",
            "Requirement already satisfied, skipping upgrade: cycler>=0.10 in /usr/local/lib/python3.7/dist-packages (from matplotlib->control) (0.10.0)\n",
            "Requirement already satisfied, skipping upgrade: python-dateutil>=2.1 in /usr/local/lib/python3.7/dist-packages (from matplotlib->control) (2.8.1)\n",
            "Requirement already satisfied, skipping upgrade: six in /usr/local/lib/python3.7/dist-packages (from cycler>=0.10->matplotlib->control) (1.15.0)\n"
          ],
          "name": "stdout"
        }
      ]
    },
    {
      "cell_type": "code",
      "metadata": {
        "id": "qS7jAwJMETzx"
      },
      "source": [
        "import numpy as np\n",
        "import skfuzzy as fuzz\n",
        "from skfuzzy import control as ctrl\n",
        "import control as ct\n",
        "from control.matlab import * #I want to have a MATLAB-like environment\n",
        "import matplotlib.pyplot as plt\n",
        "import scipy as sp"
      ],
      "execution_count": 18,
      "outputs": []
    },
    {
      "cell_type": "code",
      "metadata": {
        "id": "RcvDGO12Dri1"
      },
      "source": [
        "#creating object dynamics\n",
        "def port_crane_updfcn(t,s,u,params):\n",
        "\n",
        "  # Define variables for object state\n",
        "  x = s[0]    \n",
        "  dx = s[1]\n",
        "\n",
        "  # calculating the output variables \n",
        "  ddx = -6*dx-x+u[0]\n",
        "\n",
        "  return np.array([dx,ddx])\n",
        "\n",
        "def port_crane_outfcn(t, s, u, params):\n",
        "  return s[0]"
      ],
      "execution_count": 60,
      "outputs": []
    },
    {
      "cell_type": "code",
      "metadata": {
        "id": "luXKvlpPhpCh"
      },
      "source": [
        "# Define a generator for creating a plots\n",
        "def system_dynamic_plot(sys, t, y, u,e,de,du, t_start_input=0, y_ref=0, linetype='b-',\n",
        "                         subplots=[None],fig_size=None):\n",
        "  #Figure out the plot bounds and indices\n",
        "  y_min = 0; y_max = y_ref+y_ref*0.05; y_ind = sys.find_output('y')\n",
        "#  phi_min = -math.pi/18; phi_may = math.pi/18; phi_ind = sys.find_state('ddx')\n",
        "  # u_min = 0; u_max = max(u); u_ind = sys.find_input('u') \n",
        "  # graph_max=max([y_max,u_max])\n",
        "  # graph_min=min([y_min,u_min])\n",
        "  graph_max=y_max\n",
        "  graph_min=y_min\n",
        "  # Make sure the upper and lower bounds for y are OK\n",
        "  if len(y.shape)>1:\n",
        "    while max(y[y_ind]) > graph_max: graph_max += 0.1\n",
        "    while min(y[y_ind]) < graph_min: graph_min -= 0.1\n",
        "  else:\n",
        "    while max(y) > graph_max: graph_max += 0.1\n",
        "    while min(y) < graph_min: graph_min -= 0.1\n",
        "    \n",
        "  # # Make sure the upper and lower bounds for u are OK\n",
        "  # if len(u.shape)>1:\n",
        "  #   while max(u[u_ind]) > graph_max: graph_max += 1\n",
        "  #   while min(u[u_ind]) < graph_min: graph_min -= 1\n",
        "  # else:\n",
        "  #   while max(u) >graph_max: graph_max += 1\n",
        "  #   while min(u) <graph_min: graph_min -= 1\n",
        "  graph_min-=0.1\n",
        "  graph_max+=0.1\n",
        "  # Create arrays for return values\n",
        "  subplot_axes = subplots.copy()\n",
        "\n",
        " # System profiles\n",
        "  if subplot_axes[0] is None:\n",
        "    subplot_axes[0] = plt.subplot(1,1,1)\n",
        "  else:\n",
        "    plt.sca(subplots[0])\n",
        "  if len(y.shape)>1:\n",
        "    plt.plot(t, y[y_ind], '-',c='indigo')\n",
        "  else:\n",
        "    plt.plot(t, y, '-',c='indigo')\n",
        "  plt.plot(t, y_ref*np.ones(t.shape), 'k--')\n",
        "  plt.plot([t_start_input, t_start_input], [y_min, y_max], 'b--')\n",
        "  # if len(u.shape)>1:\n",
        "  #   plt.plot(t, u[u_ind], '-',color='darkblue')\n",
        "  # else:\n",
        "  #   plt.plot(t, u, '-',color='darkblue')\n",
        "  plt.plot(t,e,'-',color='orange')\n",
        "  # plt.plot(t,de,'-',color='red')\n",
        "  # plt.plot(t,dU,'-',color='lightblue')\n",
        "  plt.axis([0, t[-1], graph_min, graph_max])\n",
        "  plt.xlabel('Time $t$ [s]')\n",
        "  plt.ylabel('$y,u$')\n",
        "  plt.grid(color='0.5')\n",
        "    \n",
        "  return subplot_axes"
      ],
      "execution_count": 151,
      "outputs": []
    },
    {
      "cell_type": "code",
      "metadata": {
        "colab": {
          "base_uri": "https://localhost:8080/",
          "height": 826
        },
        "id": "1ghARWAwmc2r",
        "outputId": "d5bbaab3-c0df-441e-b4b8-e886e8ceaa93"
      },
      "source": [
        "#Параметры моделирования системы\n",
        "\n",
        "#Сгенерировали нечёткую систему\n",
        "\n",
        "#Fuzzy regulator parameters init\n",
        "kd=13\n",
        "E_abs=1\n",
        "E_min=-E_abs\n",
        "E_max=E_abs\n",
        "dU_abs=200\n",
        "dU_min=-dU_abs\n",
        "dU_max=dU_abs\n",
        "dE_abs=dU_abs/kd\n",
        "print(dE_abs)\n",
        "dE_min=-dE_abs\n",
        "dE_max=dE_abs\n",
        "# New Antecedent/Consequent objects hold universe variables and\n",
        "# continues membership functions\n",
        "N=1e3 # count of point for the universe\n",
        "E = ctrl.Antecedent(np.linspace(E_min, E_max, int(N+1)), 'E') # input in m with \n",
        "dE = ctrl.Antecedent(np.linspace(dE_min, dE_max, int(N+1)), 'dE') # in rad\n",
        "U = ctrl.Consequent(np.linspace(dU_min, dU_max, int(N+1)), 'U')\n",
        "\n",
        "# Custom membership functions can be built interactively with a familiar,\n",
        "# Pythonic API\n",
        "# Auto-membership function population \n",
        "names=['--','-','0','+','++']\n",
        "cuant = names\n",
        "ka=0.2\n",
        "ka1=1\n",
        "kb=0.5\n",
        "kb1=0.5\n",
        "kb2=0\n",
        "kb3=1\n",
        "E[cuant[0]] = fuzz.trimf(E.universe, [E_min*1,E_min*ka1,E_min*0.2])\n",
        "E[cuant[1]] = fuzz.trimf(E.universe, [E_min*kb3,E_min*kb1,E_min*kb2])\n",
        "E[cuant[2]] = fuzz.trimf(E.universe, [E_min*kb,0,E_max*kb])\n",
        "E[cuant[3]] = fuzz.trimf(E.universe, [E_max*kb2,E_max*kb1,E_max*kb3])\n",
        "E[cuant[4]] = fuzz.trimf(E.universe, [E_max*0.2,E_max*ka1,E_max*1])\n",
        "dE.automf(5,names=names)\n",
        "U.automf(5,names=names)\n",
        "\n",
        "E.view()\n",
        "dE.view()\n",
        "U.view()\n",
        "\n",
        "#создание базы правил нечеткой системы\n",
        "#Fuzzy rules\n",
        "rule0 = ctrl.Rule(antecedent=((E['--'] & dE['--']) |\n",
        "                              (E['-'] & dE['--']) |\n",
        "                              (E['--'] & dE['-']) ),\n",
        "                  consequent=U['--'], label='rule --')\n",
        "\n",
        "rule1 = ctrl.Rule(antecedent=((E['0'] & dE['--']) |\n",
        "                              (E['+'] & dE['--']) |\n",
        "                              (E['-'] & dE['-']) |\n",
        "                              (E['0'] & dE['-']) |                              \n",
        "                              (E['--'] & dE['0']) |                              \n",
        "                              (E['-'] & dE['0']) |                              \n",
        "                              (E['--'] & dE['+'])),\n",
        "                  consequent=U['-'], label='rule -')\n",
        "\n",
        "rule2 = ctrl.Rule(antecedent=((E['--'] & dE['++']) |\n",
        "                              (E['-'] & dE['+']) |\n",
        "                              (E['0'] & dE['0']) |\n",
        "                              (E['+'] & dE['-']) |                              \n",
        "                              (E['++'] & dE['--'])),\n",
        "                  consequent=U['0'], label='rule 0')\n",
        "\n",
        "rule3 = ctrl.Rule(antecedent=((E['++'] & dE['-']) |\n",
        "                              (E['+'] & dE['0']) |\n",
        "                              (E['++'] & dE['0']) |\n",
        "                              (E['0'] & dE['+']) |                              \n",
        "                              (E['+'] & dE['+']) |                              \n",
        "                              (E['-'] & dE['++']) |                              \n",
        "                              (E['0'] & dE['++'])),\n",
        "                  consequent=U['+'], label='rule +')\n",
        "\n",
        "rule4 = ctrl.Rule(antecedent=((E['++'] & dE['+']) |\n",
        "                              (E['+'] & dE['++']) |\n",
        "                              (E['++'] & dE['++']) ),\n",
        "                  consequent=U['++'], label='rule ++')\n",
        "\n",
        "#Control System Creation \n",
        "sys_ctrl = ctrl.ControlSystem([rule0, rule1, rule2, rule3, rule4 ])\n",
        "sys_sim = ctrl.ControlSystemSimulation(sys_ctrl)\n"
      ],
      "execution_count": 340,
      "outputs": [
        {
          "output_type": "stream",
          "text": [
            "15.384615384615385\n"
          ],
          "name": "stdout"
        },
        {
          "output_type": "display_data",
          "data": {
            "image/png": "[encoded data removed]",
            "text/plain": [
              "<Figure size 432x288 with 1 Axes>"
            ]
          },
          "metadata": {
            "tags": [],
            "needs_background": "light"
          }
        },
        {
          "output_type": "display_data",
          "data": {
            "image/png": "[encoded data removed]",
            "text/plain": [
              "<Figure size 432x288 with 1 Axes>"
            ]
          },
          "metadata": {
            "tags": [],
            "needs_background": "light"
          }
        },
        {
          "output_type": "display_data",
          "data": {
            "image/png": "[encoded data removed]",
            "text/plain": [
              "<Figure size 432x288 with 1 Axes>"
            ]
          },
          "metadata": {
            "tags": [],
            "needs_background": "light"
          }
        }
      ]
    },
    {
      "cell_type": "code",
      "metadata": {
        "colab": {
          "base_uri": "https://localhost:8080/"
        },
        "id": "nHk3w-anjvEY",
        "outputId": "bd0e4bcc-75f1-4f2c-cf1b-6bfe9bc719f0"
      },
      "source": [
        "# # Pass inputs to the ControlSystem using Antecedent labels with Pythonic API\n",
        "# # Note: if you like passing many inputs all at once, use .inputs(dict_of_data)\n",
        "# sys_sim.input['E'] = 0.5\n",
        "# sys_sim.input['dE'] = 0\n",
        "\n",
        "# # Crunch the numbers\n",
        "# sys_sim.compute()\n",
        "\n",
        "# print(sys_sim.output['U'])"
      ],
      "execution_count": 57,
      "outputs": [
        {
          "output_type": "stream",
          "text": [
            "0.49999999999999983\n"
          ],
          "name": "stdout"
        }
      ]
    },
    {
      "cell_type": "code",
      "metadata": {
        "id": "26wxIMq5F2Ct"
      },
      "source": [
        "#nonlinearsystem\n",
        "\n",
        "def _rhs(self, t, x, u):\n",
        "    xdot = self.updfcn(t, x, u, self._current_params) \\\n",
        "        if self.updfcn is not None else []\n",
        "    return np.array(xdot).reshape((-1,))\n",
        "\n",
        "def _out(self, t, x, u):\n",
        "    y = self.outfcn(t, x, u, self._current_params) \\\n",
        "        if self.outfcn is not None else x\n",
        "    return np.array(y).reshape((-1,))\n",
        "\n",
        "#input_output_response\n",
        "\n",
        "def _check_convert_array(in_obj, legal_shapes, err_msg_start, squeeze=False,\n",
        "                         transpose=False):\n",
        "  # convert nearly everything to an array.\n",
        "    out_array = np.asarray(in_obj)\n",
        "    if (transpose):\n",
        "        out_array = np.transpose(out_array)\n",
        "\n",
        "    # Test element data type, elements must be numbers\n",
        "    legal_kinds = set((\"i\", \"f\", \"c\"))  # integer, float, complex\n",
        "    if out_array.dtype.kind not in legal_kinds:\n",
        "        err_msg = \"Wrong element data type: '{d}'. Array elements \" \\\n",
        "                  \"must be numbers.\".format(d=str(out_array.dtype))\n",
        "        raise TypeError(err_msg_start + err_msg)\n",
        "\n",
        "    # If array is zero dimensional (in_obj is scalar):\n",
        "    # create array with legal shape filled with the original value.\n",
        "    if out_array.ndim == 0:\n",
        "        for s_legal in legal_shapes:\n",
        "            # search for shape that does not contain the special symbol any.\n",
        "            if \"any\" in s_legal:\n",
        "                continue\n",
        "            the_val = out_array[()]\n",
        "            out_array = np.empty(s_legal, 'd')\n",
        "            out_array.fill(the_val)\n",
        "            break\n",
        "\n",
        "    # Test shape\n",
        "    def shape_matches(s_legal, s_actual):\n",
        "        \"\"\"Test if two shape tuples match\"\"\"\n",
        "        # Array must have required number of dimensions\n",
        "        if len(s_legal) != len(s_actual):\n",
        "            return False\n",
        "        # All dimensions must contain required number of elements. Joker: \"all\"\n",
        "        for n_legal, n_actual in zip(s_legal, s_actual):\n",
        "            if n_legal == \"any\":\n",
        "                continue\n",
        "            if n_legal != n_actual:\n",
        "                return False\n",
        "        return True\n",
        "\n",
        "    # Iterate over legal shapes, and see if any matches out_array's shape.\n",
        "    for s_legal in legal_shapes:\n",
        "        if shape_matches(s_legal, out_array.shape):\n",
        "            break\n",
        "    else:\n",
        "        legal_shape_str = \" or \".join([str(s) for s in legal_shapes])\n",
        "        err_msg = \"Wrong shape (rows, columns): {a}. Expected: {e}.\" \\\n",
        "                  .format(e=legal_shape_str, a=str(out_array.shape))\n",
        "        raise ValueError(err_msg_start + err_msg)\n",
        "\n",
        "    # Convert shape\n",
        "    if squeeze:\n",
        "        out_array = np.squeeze(out_array)\n",
        "        # We don't want zero dimensional arrays\n",
        "        if out_array.shape == tuple():\n",
        "            out_array = out_array.reshape((1,))\n",
        "\n",
        "    return out_array\n",
        "\n",
        "def _update_params(self, params, warning=False):\n",
        "  # Update the current parameter values\n",
        "  self._current_params = self.params.copy()\n",
        "  self._current_params.update(params)\n",
        "\n",
        "def _find_size(sysval, vecval):\n",
        "    \"\"\"Utility function to find the size of a system parameter\n",
        "    If both parameters are not None, they must be consistent.\n",
        "    \"\"\"\n",
        "    if hasattr(vecval, '__len__'):\n",
        "        if sysval is not None and sysval != len(vecval):\n",
        "            raise ValueError(\"Inconsistend information to determine size \"\n",
        "                             \"of system component\")\n",
        "        return len(vecval)\n",
        "    # None or 0, which is a valid value for \"a (sysval, ) vector of zeros\".\n",
        "    if not vecval:\n",
        "        return 0 if sysval is None else sysval\n",
        "    elif sysval == 1:\n",
        "        # (1, scalar) is also a valid combination from legacy code\n",
        "        return 1\n",
        "    raise ValueError(\"Can't determine size of system component.\")\n",
        "\n",
        "def _process_time_response(\n",
        "        sys, tout, yout, xout, u,e,de,du,transpose=None, return_x=False,return_t_u_y = False,\n",
        "        squeeze=None, input=None, output=None):\n",
        "      # If squeeze was not specified, figure out the default (might remain None)\n",
        "    if squeeze is None:\n",
        "        squeeze = config.defaults['control.squeeze_time_response']\n",
        "\n",
        "    # Determine if the system is SISO\n",
        "    issiso = sys.issiso() or (input is not None and output is not None)\n",
        "\n",
        "    # Figure out whether and how to squeeze output data\n",
        "    if squeeze is True:         # squeeze all dimensions\n",
        "        yout = np.squeeze(yout)\n",
        "    elif squeeze is False:      # squeeze no dimensions\n",
        "        pass\n",
        "    elif squeeze is None:       # squeeze signals if SISO\n",
        "        if issiso:\n",
        "            if len(yout.shape) == 3:\n",
        "                yout = yout[0][0]       # remove input and output\n",
        "            else:\n",
        "                yout = yout[0]          # remove input\n",
        "    else:\n",
        "        raise ValueError(\"unknown squeeze value\")\n",
        "\n",
        "    # Figure out whether and how to squeeze the state data\n",
        "    if issiso and xout is not None and len(xout.shape) > 2:\n",
        "        xout = xout[:, 0, :]            # remove input\n",
        "\n",
        "    # See if we need to transpose the data back into MATLAB form\n",
        "    if transpose:\n",
        "        # Transpose time vector in case we are using np.matrix\n",
        "        tout = np.transpose(tout)\n",
        "\n",
        "        # For signals, put the last index (time) into the first slot\n",
        "        yout = np.transpose(yout, np.roll(range(yout.ndim), 1))\n",
        "        if xout is not None:\n",
        "            xout = np.transpose(xout, np.roll(range(xout.ndim), 1))\n",
        "\n",
        "    # Return time, output, and (optionally) state\n",
        "    if return_x: \n",
        "      return (yout, xout) \n",
        "    elif return_t_u_y:  \n",
        "      return (tout, u,e,de,du, yout)\n",
        "    else:\n",
        "      return (yout)\n",
        "\n",
        "def input_output_response(\n",
        "        sys, T, y_zad=0., X0=0, params={},\n",
        "        transpose=False, return_t_u_y=False, squeeze=None,Fuzzy_regulator=None,\n",
        "        solve_ivp_kwargs={}, **kwargs):\n",
        "  \"\"\"Compute the output response of a system to a given input.'''\n",
        "  \"\"\"\n",
        "\n",
        "  # Set the default method to 'RK45'\n",
        "  if solve_ivp_kwargs.get('method', None) is None:\n",
        "    solve_ivp_kwargs['method'] = 'RK45'\n",
        "\n",
        "  # Compute the time interval and number of steps\n",
        "  T0, Tf = T[0], T[-1]\n",
        "  n_steps = len(T)  \n",
        "  dt=T[1]-T[0]\n",
        "  # Update the parameter values\n",
        "  sys._update_params(params)\n",
        "  \n",
        "  global U,Tnew,e,de,dU\n",
        "  U=[]\n",
        "  Tnew=[]\n",
        "  e=[]\n",
        "  de=[]\n",
        "  dU=[]\n",
        "  def ufun(t,x):\n",
        "    global U,Tnew,e,de,dU\n",
        "    Tnew=np.append(Tnew,t)\n",
        "    sys_sim.input['E'] = -x[0]+y_zad \n",
        "    sys_sim.input['dE'] = -x[1] \n",
        "    sys_sim.compute()\n",
        "    U=np.append(U,sys_sim.output['U'])\n",
        "    if len(U)>1:\n",
        "      dU=np.append(dU,(U[-1]-U[-2])/(Tnew[-1]-Tnew[-2]))\n",
        "    else:\n",
        "      print(U[-1])\n",
        "      print((U[-1]/Tnew[-1]))\n",
        "      dU=np.append(dU,(U[-1]/Tnew[-1]))\n",
        "    e=np.append(e,-x[0]+y_zad)\n",
        "    de=np.append(de,x[1])\n",
        "    return [U[-1]]\n",
        "\n",
        "  # Create a lambda function for the right hand side\n",
        "  def ivp_rhs(t, x):\n",
        "    return sys._rhs(t, x, ufun(t,x))\n",
        "\n",
        "  if not hasattr(sp.integrate, 'solve_ivp'):\n",
        "    raise NameError(\"scipy.integrate.solve_ivp not found; \"\n",
        "                        \"use SciPy 1.0 or greater\")\n",
        "  soln = sp.integrate.solve_ivp(\n",
        "      ivp_rhs, (T0, Tf), X0, t_eval=T,\n",
        "      vectorized=False, **solve_ivp_kwargs) #шаг расчёта переменный\n",
        "\n",
        "  U=np.interp(T,Tnew,U)\n",
        "  e=np.interp(T,Tnew,e)\n",
        "  de=np.interp(T,Tnew,de)\n",
        "  dU=np.interp(T,Tnew,dU)\n",
        "\n",
        "  if sys.ninputs is None or sys.ninputs == 1:\n",
        "      legal_shapes = [(n_steps,), (1, n_steps)]\n",
        "  else:\n",
        "      legal_shapes = [(sys.ninputs, n_steps)]\n",
        "\n",
        "  #U = _check_convert_array(U, legal_shapes,\n",
        "  #                        'Parameter ``U``: ', squeeze=False)\n",
        "\n",
        "  # Compute the output associated with the state (and use sys.out to\n",
        "  # figure out the number of outputs just in case it wasn't specified)\n",
        "  y = np.zeros((np.shape(sys._out(T[0], X0, y_zad))[0], len(T)))\n",
        "  u = U[0] if len(U.shape) == 1 else U[:, 0]\n",
        "  for i in range(len(T)):\n",
        "    u = U[i] if len(U.shape) == 1 else U[:, i]\n",
        "    y[:, i] = sys._out(T[i], soln.y[:, i], u )\n",
        "                       \n",
        "  return _process_time_response(sys, T, y, soln.y,U,e,de,dU, transpose=transpose,\n",
        "                                  return_t_u_y=return_t_u_y, squeeze=squeeze)"
      ],
      "execution_count": 224,
      "outputs": []
    },
    {
      "cell_type": "code",
      "metadata": {
        "id": "9Esc7WNXhqhB"
      },
      "source": [
        "#Input/ouput model for the object (!but it is a linear system!)\n",
        "sys_object = ct.NonlinearIOSystem(port_crane_updfcn, port_crane_outfcn, \n",
        "                   inputs = ('u'), outputs = ('y'), states=('x','dx'),\n",
        "                   name='sys_object',params={})"
      ],
      "execution_count": 74,
      "outputs": []
    },
    {
      "cell_type": "code",
      "metadata": {
        "colab": {
          "base_uri": "https://localhost:8080/",
          "height": 736
        },
        "id": "X6U5ez9riDd0",
        "outputId": "34eb57f9-d0d2-475c-82b3-6784fc5fba75"
      },
      "source": [
        "# Define the generator for simulating an aoutonomus object whithout\n",
        "# controller, when state var equal to null. And also Fe = constant\n",
        "import math\n",
        "y_zad=1 \n",
        "# Define the time and input vectors\n",
        "# Force starts from (time_start_force) sec and continue during  (time_application_of_force) sec of\n",
        "# interval and than force become zero before the end of tine interval \n",
        "time_start_force=0\n",
        "time_interval_stop = 1 # length of time interval in sec \n",
        "time_application_of_force = time_interval_stop - time_start_force\n",
        "T_N=int(1e3+1) #points for simulation\n",
        "T = np.linspace(0, time_interval_stop, (T_N))\n",
        "N_time_start_force = math.ceil((time_start_force/time_interval_stop)*(T_N))\n",
        "N_time_application_of_force = math.ceil((time_application_of_force/time_interval_stop)*(T_N))\n",
        "\n",
        "# linear force increase\n",
        "# u=np.array([0])\n",
        "# system single step response \n",
        "# u = np.concatenate(( np.zeros(N_time_start_force),\n",
        "#             np.ones(N_time_application_of_force) ))\n",
        "\n",
        "init_state_vars = [0,0] #[dx,ddx]\n",
        "# Response of the system\n",
        "sys_initial_state = np.array([[0],[0]]) \n",
        "(tout, u,e,de,du, sys_state) = input_output_response(sys_object, T, y_zad,sys_initial_state[0:2,0],\n",
        "                                  params={},Fuzzy_regulator=sys_sim,return_t_u_y=True)   \n",
        "e=-sys_state+y_zad\n",
        "#create graphics\n",
        "figsize=(20,10)\n",
        "plt.figure(figsize=figsize)  \n",
        "subplots = system_dynamic_plot(sys_object, tout, sys_state, u=u ,e=e,de=de,du=du,y_ref=y_zad,\n",
        "         t_start_input=time_start_force, linetype='-b',fig_size=figsize)\n",
        "\n",
        "# Add title and legend\n",
        "plt.suptitle('System state variables of the system')\n",
        "import matplotlib.lines as mlines\n",
        "y_line = mlines.Line2D([], [], color='indigo', linestyle='-', label='y')\n",
        "# u_line = mlines.Line2D([], [], color='darkblue', linestyle='-', label='u') \n",
        "e_line = mlines.Line2D([],[],color='orange',linestyle='-',label='e')\n",
        "# de_line = mlines.Line2D([],[],color='red',linestyle='-',label='de')\n",
        "# dU_line = mlines.Line2D([],[],color='lightblue',linestyle='-',label='dU')\n",
        "plt.legend(handles=[y_line, e_line], frameon=False, loc='lower right') \n",
        "\n",
        "S=stepinfo(sys_state, T=tout, yfinal=1, SettlingTimeThreshold=0.05,\n",
        "             RiseTimeLimits=(0.1, 0.9))\n",
        "print(S)"
      ],
      "execution_count": 341,
      "outputs": [
        {
          "output_type": "stream",
          "text": [
            "100.0000000000001\n",
            "inf\n"
          ],
          "name": "stdout"
        },
        {
          "output_type": "stream",
          "text": [
            "/usr/local/lib/python3.7/dist-packages/ipykernel_launcher.py:173: RuntimeWarning: divide by zero encountered in double_scalars\n",
            "/usr/local/lib/python3.7/dist-packages/ipykernel_launcher.py:174: RuntimeWarning: divide by zero encountered in double_scalars\n",
            "/usr/local/lib/python3.7/dist-packages/ipykernel_launcher.py:170: RuntimeWarning: divide by zero encountered in double_scalars\n"
          ],
          "name": "stderr"
        },
        {
          "output_type": "stream",
          "text": [
            "{'RiseTime': 0.16799999999999998, 'SettlingTime': 0.23500000000000001, 'SettlingMin': 0.9002938257651809, 'SettlingMax': 1.04898537811703, 'Overshoot': 4.8985378117029965, 'Undershoot': 0, 'Peak': 1.04898537811703, 'PeakTime': 0.329, 'SteadyStateValue': 1}\n"
          ],
          "name": "stdout"
        },
        {
          "output_type": "display_data",
          "data": {
            "image/png": "[encoded data removed]",
            "text/plain": [
              "<Figure size 1440x720 with 1 Axes>"
            ]
          },
          "metadata": {
            "tags": [],
            "needs_background": "light"
          }
        }
      ]
    },
    {
      "cell_type": "code",
      "metadata": {
        "colab": {
          "base_uri": "https://localhost:8080/"
        },
        "id": "inL9Au55cpps",
        "outputId": "bd6c5ca9-1969-41db-9d31-de35383d9555"
      },
      "source": [
        "0.244/0.235"
      ],
      "execution_count": 342,
      "outputs": [
        {
          "output_type": "execute_result",
          "data": {
            "text/plain": [
              "1.0382978723404255"
            ]
          },
          "metadata": {
            "tags": []
          },
          "execution_count": 342
        }
      ]
    },
    {
      "cell_type": "code",
      "metadata": {
        "colab": {
          "base_uri": "https://localhost:8080/"
        },
        "id": "qbaGouuGVMuc",
        "outputId": "34e11143-5785-4887-9cf3-28c105b2329c"
      },
      "source": [
        "print(sys_state)\n",
        "print(u)"
      ],
      "execution_count": 219,
      "outputs": [
        {
          "output_type": "stream",
          "text": [
            "[0.         0.00490144 0.01922152 ... 0.99664886 0.99664888 0.99664889]\n",
            "[100.         100.0000194  100.00003812 ...   0.99665945   0.99665165\n",
            "   0.99662335]\n"
          ],
          "name": "stdout"
        }
      ]
    },
    {
      "cell_type": "code",
      "metadata": {
        "colab": {
          "base_uri": "https://localhost:8080/"
        },
        "id": "ZZ1H12_EOi2a",
        "outputId": "9a4071ac-fb4c-4dda-da51-a7be27e3213a"
      },
      "source": [
        "import bisect\n",
        "indtreg=bisect.bisect(sys_state,0.95)\n",
        "print(indtreg)"
      ],
      "execution_count": 227,
      "outputs": [
        {
          "output_type": "stream",
          "text": [
            "18\n"
          ],
          "name": "stdout"
        }
      ]
    },
    {
      "cell_type": "code",
      "metadata": {
        "colab": {
          "base_uri": "https://localhost:8080/"
        },
        "id": "ZUUclwvDR7C5",
        "outputId": "dd13c3c0-3815-4fe7-a3f3-faf2228f0d79"
      },
      "source": [
        "S=stepinfo(sys_state, T=tout, yfinal=1, SettlingTimeThreshold=0.05,\n",
        "             RiseTimeLimits=(0.1, 0.9))\n",
        "print(S)\n",
        "print(S['SettlingTime'])"
      ],
      "execution_count": 233,
      "outputs": [
        {
          "output_type": "stream",
          "text": [
            "{'RiseTime': 0.12000000000000001, 'SettlingTime': 0.77, 'SettlingMin': 0.8340314912369982, 'SettlingMax': 1.365007936765334, 'Overshoot': 36.500793676533405, 'Undershoot': 0, 'Peak': 1.365007936765334, 'PeakTime': 0.28, 'SteadyStateValue': 1}\n",
            "0.77\n"
          ],
          "name": "stdout"
        }
      ]
    },
    {
      "cell_type": "code",
      "metadata": {
        "id": "rosIsjP3p95F"
      },
      "source": [
        "graph_max"
      ],
      "execution_count": null,
      "outputs": []
    },
    {
      "cell_type": "code",
      "metadata": {
        "id": "ze_PqSeBoUz8"
      },
      "source": [
        "\n",
        "from math import sin,cos,sqrt,atan\n",
        "ddx  = ddx.evalf(subs={ 'x':3,'dx':2,'phi':2,'dphi':2,'m':230,'M':6000,'k1':0,'k2':0,'g':9.8,'L':30,'Fe':800  })\n",
        "print(ddphi.evalf(subs={ 'x':3,'dx':2,'phi':2,'dphi':2,'m':230,'M':6000,'k1':0,'k2':0,'g':9.8,'L':30,'Fe':800 ,'ddx':ddx }))"
      ],
      "execution_count": null,
      "outputs": []
    },
    {
      "cell_type": "code",
      "metadata": {
        "id": "EinfR5dkkBDm"
      },
      "source": [
        "type(y_sfb )"
      ],
      "execution_count": null,
      "outputs": []
    },
    {
      "cell_type": "markdown",
      "metadata": {
        "id": "3aJRN2dDkAtc"
      },
      "source": [
        ""
      ]
    },
    {
      "cell_type": "code",
      "metadata": {
        "id": "6gu0FtRsTjzt"
      },
      "source": [
        "def port_crane_outdcn(t ,x ,u , param={})\n",
        "  # Get the port crane parameters that we need\n",
        "  "
      ],
      "execution_count": null,
      "outputs": []
    }
  ]
}