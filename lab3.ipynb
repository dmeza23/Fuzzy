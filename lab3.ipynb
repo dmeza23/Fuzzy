{
  "nbformat": 4,
  "nbformat_minor": 0,
  "metadata": {
    "colab": {
      "name": "lab3",
      "provenance": [],
      "collapsed_sections": [],
      "authorship_tag": "ABX9TyPaBZi7jjrrtmgrkPBpYELz",
      "include_colab_link": true
    },
    "kernelspec": {
      "name": "python3",
      "display_name": "Python 3"
    },
    "language_info": {
      "name": "python"
    }
  },
  "cells": [
    {
      "cell_type": "markdown",
      "metadata": {
        "id": "view-in-github",
        "colab_type": "text"
      },
      "source": [
        "<a href=\"https://colab.research.google.com/github/my000own000files1/Fuzzy/blob/main/lab3.ipynb\" target=\"_parent\"><img src=\"https://colab.research.google.com/assets/colab-badge.svg\" alt=\"Open In Colab\"/></a>"
      ]
    },
    {
      "cell_type": "markdown",
      "metadata": {
        "id": "KDV3hR9e-Son"
      },
      "source": [
        ""
      ]
    },
    {
      "cell_type": "code",
      "metadata": {
        "colab": {
          "base_uri": "https://localhost:8080/"
        },
        "id": "9CosVx6_NJXE",
        "outputId": "7910aed1-dd84-40ae-998c-8a03f02fbefd"
      },
      "source": [
        "# Автоматизация расчета уравнения состояния объекта с помощью пакета sympy\n",
        "import sympy,math\n",
        "\n",
        "#создаем символьные переменные\n",
        "m=sympy.symbols('m')\n",
        "M=sympy.symbols('M')\n",
        "g=sympy.symbols('g')\n",
        "L=sympy.symbols('L')\n",
        "k1=sympy.symbols('k1')\n",
        "k2=sympy.symbols('k2')\n",
        "Fe=sympy.symbols('Fe')\n",
        "x=sympy.symbols('x')\n",
        "dx=sympy.symbols('dx')\n",
        "phi=sympy.symbols('phi')\n",
        "dphi=sympy.symbols('dphi')\n",
        "\n",
        "ddx=sympy.symbols('ddx')\n",
        "ddphi=sympy.symbols('ddphi')\n",
        "#signdx=sympy.symbols('np.sign(dx)')\n",
        "\n",
        "# полная кинетическая системы T\n",
        "T = m*(dx**2+(L**2)*dphi**2+2*dx*L*dphi*sympy.cos(phi))/2+M*(dx**2)/2\n",
        "# полная потенциальная энергися системы V\n",
        "V = (k1*(L*dphi)*sympy.sin(phi)-m*g)*L*sympy.cos(phi)\n",
        "#задание функции Лагранжа\n",
        "L = T - V\n",
        "print(\"L=\",L)\n",
        "#правая часть 1-ого уравнения ЭЛ\n",
        "Fx=Fe-k2*dx \n",
        "#Система уравнений Эйлера-Лагранжа 2 рода\n",
        "dLddx=sympy.diff(L,dx)\n",
        "print(dLddx)\n",
        "L1=(sympy.diff(dLddx,x)*dx+sympy.diff(dLddx,dx)*ddx+sympy.diff(dLddx,phi)*dphi+sympy.diff(dLddx,dphi)*ddphi)-(sympy.diff(L,x))-Fx #L[0]=0\n",
        "print(\"L1=\",L1,\"=0\")\n",
        "dLddphi=sympy.diff(L,dphi)\n",
        "print(\"dL/d(dphi)=\",dLddphi)\n",
        "dLdphi=sympy.diff(L,phi)\n",
        "print(\"dLdphi=\",dLdphi)\n",
        "ddLddphidt=(sympy.diff(dLddphi,x)*dx+sympy.diff(dLddphi,dx)*ddx+sympy.diff(dLddphi,phi)*dphi+sympy.diff(dLddphi,dphi)*ddphi)\n",
        "print(\"d( dL/d(dphi) )/dt=\",ddLddphidt)\n",
        "L2=ddLddphidt-dLdphi +k1*dphi*L*sympy.cos(phi) #L[1]=0\n",
        "print(\"L2=\",L2,\"=0\")\n",
        "Leqzero=L1-L2\n",
        "#разрешим относительно ddx\n",
        "#ddx=sympy.solve(L1,ddx)\n",
        "#ddphi=sympy.solve(Leqzero,ddphi)\n",
        "#ddx=sympy.solve(Leqzero,ddx)\n",
        "ddphi=sympy.solve(L2,ddphi)\n",
        "print(\"ddphi=\",ddphi,\"\\n\")\n",
        "#print(L1.subs('ddphi',ddphi[0]))\n",
        "ddx=sympy.solve(L1.subs('ddphi',ddphi[0]),ddx)\n",
        "ddx = sympy.simplify(ddx[0])\n",
        "print(\"ddx=\",ddx,\"\\n\",\"ddphi=\",ddphi[0])"
      ],
      "execution_count": 246,
      "outputs": [
        {
          "output_type": "stream",
          "text": [
            "L= -L*(L*dphi*k1*sin(phi) - g*m)*cos(phi) + M*dx**2/2 + m*(L**2*dphi**2 + 2*L*dphi*dx*cos(phi) + dx**2)/2\n",
            "M*dx + m*(2*L*dphi*cos(phi) + 2*dx)/2\n",
            "L1= -Fe + L*ddphi*m*cos(phi) - L*dphi**2*m*sin(phi) + ddx*(M + m) + dx*k2 =0\n",
            "dL/d(dphi)= -L**2*k1*sin(phi)*cos(phi) + m*(2*L**2*dphi + 2*L*dx*cos(phi))/2\n",
            "dLdphi= -L**2*dphi*k1*cos(phi)**2 - L*dphi*dx*m*sin(phi) + L*(L*dphi*k1*sin(phi) - g*m)*sin(phi)\n",
            "d( dL/d(dphi) )/dt= L**2*ddphi*m + L*ddx*m*cos(phi) + dphi*(L**2*k1*sin(phi)**2 - L**2*k1*cos(phi)**2 - L*dx*m*sin(phi))\n",
            "L2= L**2*ddphi*m + L**2*dphi*k1*cos(phi)**2 + L*ddx*m*cos(phi) + L*dphi*dx*m*sin(phi) - L*(L*dphi*k1*sin(phi) - g*m)*sin(phi) + dphi*k1*(-L*(L*dphi*k1*sin(phi) - g*m)*cos(phi) + M*dx**2/2 + m*(L**2*dphi**2 + 2*L*dphi*dx*cos(phi) + dx**2)/2)*cos(phi) + dphi*(L**2*k1*sin(phi)**2 - L**2*k1*cos(phi)**2 - L*dx*m*sin(phi)) =0\n",
            "ddphi= [-dphi**3*k1*cos(phi)/2 + dphi**2*k1**2*sin(phi)*cos(phi)**2/m - ddx*cos(phi)/L - dphi**2*dx*k1*cos(phi)**2/L - dphi*g*k1*cos(phi)**2/L - g*sin(phi)/L - M*dphi*dx**2*k1*cos(phi)/(2*L**2*m) - dphi*dx**2*k1*cos(phi)/(2*L**2)] \n",
            "\n",
            "ddx= (Fe*L + L**2*dphi**3*k1*m*cos(phi)**2/2 - L**2*dphi**2*k1**2*sin(phi)*cos(phi)**3 + L**2*dphi**2*m*sin(phi) + L*dphi**2*dx*k1*m*cos(phi)**3 + L*dphi*g*k1*m*cos(phi)**3 - L*dx*k2 + L*g*m*sin(2*phi)/2 + M*dphi*dx**2*k1*cos(phi)**2/2 + dphi*dx**2*k1*m*cos(phi)**2/2)/(L*(M + m*sin(phi)**2)) \n",
            " ddphi= -dphi**3*k1*cos(phi)/2 + dphi**2*k1**2*sin(phi)*cos(phi)**2/m - ddx*cos(phi)/L - dphi**2*dx*k1*cos(phi)**2/L - dphi*g*k1*cos(phi)**2/L - g*sin(phi)/L - M*dphi*dx**2*k1*cos(phi)/(2*L**2*m) - dphi*dx**2*k1*cos(phi)/(2*L**2)\n"
          ],
          "name": "stdout"
        }
      ]
    },
    {
      "cell_type": "code",
      "metadata": {
        "id": "tD18KDkyD34o",
        "colab": {
          "base_uri": "https://localhost:8080/"
        },
        "outputId": "a6a3e15b-7d1b-4ae8-d990-a3347f38ceb3"
      },
      "source": [
        "!pip install -U scikit-fuzzy"
      ],
      "execution_count": 38,
      "outputs": [
        {
          "output_type": "stream",
          "text": [
            "Requirement already up-to-date: scikit-fuzzy in /usr/local/lib/python3.7/dist-packages (0.4.2)\n",
            "Requirement already satisfied, skipping upgrade: networkx>=1.9.0 in /usr/local/lib/python3.7/dist-packages (from scikit-fuzzy) (2.5.1)\n",
            "Requirement already satisfied, skipping upgrade: numpy>=1.6.0 in /usr/local/lib/python3.7/dist-packages (from scikit-fuzzy) (1.19.5)\n",
            "Requirement already satisfied, skipping upgrade: scipy>=0.9.0 in /usr/local/lib/python3.7/dist-packages (from scikit-fuzzy) (1.4.1)\n",
            "Requirement already satisfied, skipping upgrade: decorator<5,>=4.3 in /usr/local/lib/python3.7/dist-packages (from networkx>=1.9.0->scikit-fuzzy) (4.4.2)\n"
          ],
          "name": "stdout"
        }
      ]
    },
    {
      "cell_type": "code",
      "metadata": {
        "id": "C65Eh33CQ6BS",
        "colab": {
          "base_uri": "https://localhost:8080/"
        },
        "outputId": "fdb06150-3ce4-4307-aadc-300699ffa805"
      },
      "source": [
        "  !pip install -U control"
      ],
      "execution_count": 39,
      "outputs": [
        {
          "output_type": "stream",
          "text": [
            "Requirement already up-to-date: control in /usr/local/lib/python3.7/dist-packages (0.9.0)\n",
            "Requirement already satisfied, skipping upgrade: matplotlib in /usr/local/lib/python3.7/dist-packages (from control) (3.2.2)\n",
            "Requirement already satisfied, skipping upgrade: numpy in /usr/local/lib/python3.7/dist-packages (from control) (1.19.5)\n",
            "Requirement already satisfied, skipping upgrade: scipy in /usr/local/lib/python3.7/dist-packages (from control) (1.4.1)\n",
            "Requirement already satisfied, skipping upgrade: cycler>=0.10 in /usr/local/lib/python3.7/dist-packages (from matplotlib->control) (0.10.0)\n",
            "Requirement already satisfied, skipping upgrade: python-dateutil>=2.1 in /usr/local/lib/python3.7/dist-packages (from matplotlib->control) (2.8.1)\n",
            "Requirement already satisfied, skipping upgrade: pyparsing!=2.0.4,!=2.1.2,!=2.1.6,>=2.0.1 in /usr/local/lib/python3.7/dist-packages (from matplotlib->control) (2.4.7)\n",
            "Requirement already satisfied, skipping upgrade: kiwisolver>=1.0.1 in /usr/local/lib/python3.7/dist-packages (from matplotlib->control) (1.3.1)\n",
            "Requirement already satisfied, skipping upgrade: six in /usr/local/lib/python3.7/dist-packages (from cycler>=0.10->matplotlib->control) (1.15.0)\n"
          ],
          "name": "stdout"
        }
      ]
    },
    {
      "cell_type": "code",
      "metadata": {
        "id": "qS7jAwJMETzx"
      },
      "source": [
        "import numpy as np\n",
        "import skfuzzy as fuzz\n",
        "from skfuzzy import control as ctrl\n",
        "import control as ct\n",
        "from control.matlab import * #I want to have a MATLAB-like environment\n",
        "import matplotlib.pyplot as plt"
      ],
      "execution_count": 40,
      "outputs": []
    },
    {
      "cell_type": "code",
      "metadata": {
        "id": "RcvDGO12Dri1"
      },
      "source": [
        "#creating object dynamics\n",
        "def port_crane_updfcn(t,s,u,params):\n",
        "  \"\"\"A port crane with a cargo on a rope dynamics (like object) \n",
        "  assumptions: by all perturbations such as the rolling friction\n",
        "   force at the point of contact with the rails, air resistance,\n",
        "    we also assume that the cable is inextensible, i.e. L=const\n",
        "\n",
        "  Parameters\n",
        "  ----------\n",
        "  s: array \n",
        "      System state: [x,dx,phi,dphi], where x is a port crane (object) position\n",
        "      in [0,200] [m], dx is velocity of the port crane in m/s, phi is an angle\n",
        "      of deflection of the rope with a container, which is a cargo and attached\n",
        "      to the end of the rope in rad, dphi is angular velocity of the rope \n",
        "      deflection in rad/sec\n",
        "\n",
        "  u: array\n",
        "      System inputs: [Fe], where Fe is a pulling force exerted on the\n",
        "      trolley (cart), created by electric motor in Newton\n",
        "\n",
        "  Returns \n",
        "  -------\n",
        "  float\n",
        "      [ddx,ddphi], where ddx is a port crane acceleration in m/s^2 and ddphi is \n",
        "      angular acceleration in rad/s^2\n",
        "  \"\"\"\n",
        "  from math import sin,cos\n",
        "\n",
        "  # Set up the system parameters\n",
        "  m = params.get('m', 400.)  # cargo mass in kg\n",
        "  M = params.get('M', 3000.) # port crane mass in kg\n",
        "  g = params.get('g', 9.8)    # gravitational constant, m/s^2\n",
        "  L = params.get('L', 30.)     # length of the drope in m\n",
        "  k1 = params.get('k1', 0.)    # static coefficient of viscous friction air acting on port crane cart in 1/kg\n",
        "  k2 = params.get('k2',1.5e3)     # static coefficient of friction acting on cargo, it's include viscous friction air and dry friction and other that depend on speed in 1/kg\n",
        "\n",
        "  # Define variables for object state\n",
        "  x = s[0]    # port crane position in m\n",
        "  dx = s[1]   # velocity of the port crane in m/s\n",
        "  phi = s[2]  # deflection of the rope angle in rad\n",
        "  dphi = s[3] # angular velocity of the rope deflection in rad/sec\n",
        "\n",
        "  #Define variables for object inputs\n",
        "  Fe = u[0]   # pulling force exerted on the trolley in Newtons\n",
        "\n",
        "  # calculating the output variables\n",
        "  ddx = (Fe*L + L**2*dphi**3*k1*m*cos(phi)**2/2 - L**2*dphi**2*k1**2*sin(phi)*cos(phi)**3 + L**2*dphi**2*m*sin(phi) + L*dphi**2*dx*k1*m*cos(phi)**3 + L*dphi*g*k1*m*cos(phi)**3 - L*dx*k2 + L*g*m*sin(2*phi)/2 + M*dphi*dx**2*k1*cos(phi)**2/2 + dphi*dx**2*k1*m*cos(phi)**2/2)/(L*(M + m*sin(phi)**2)) \n",
        "  ddphi = -dphi**3*k1*cos(phi)/2 + dphi**2*k1**2*sin(phi)*cos(phi)**2/m - ddx*cos(phi)/L - dphi**2*dx*k1*cos(phi)**2/L - dphi*g*k1*cos(phi)**2/L - g*sin(phi)/L - M*dphi*dx**2*k1*cos(phi)/(2*L**2*m) - dphi*dx**2*k1*cos(phi)/(2*L**2)\n",
        "\n",
        "  return np.array([dx,ddx,dphi,ddphi])\n",
        "\n",
        "def port_crane_outfcn(t, s, u, params):\n",
        "  return s[0:3]"
      ],
      "execution_count": 247,
      "outputs": []
    },
    {
      "cell_type": "code",
      "metadata": {
        "id": "luXKvlpPhpCh"
      },
      "source": [
        "# Define a generator for creating a plots\n",
        "def system_dynamic_plot(sys, t, y, u, t_start_input=0, x_ref=0, linetype='b-',\n",
        "                         subplots=[None, None, None],fig_size=None):\n",
        "  #Figure out the plot bounds and indices\n",
        "  x_min = 0; x_max = x_ref+math.ceil(x_ref*0.05); x_ind = sys.find_state('x')\n",
        "  phi_min = -math.pi/18; phi_max = math.pi/18; phi_ind = sys.find_state('phi')\n",
        "  Fe_min = 0; Fe_max = max(u); Fe_ind = sys.find_input('Fe') \n",
        "\n",
        "  #convert phi from rad to deg\n",
        "  from math import pi \n",
        "  y[phi_ind]*=180/pi\n",
        "\n",
        "  # Make sure the upper and lower bounds on x are OK\n",
        "  while max(y[x_ind]) > x_max: x_max += 1\n",
        "  while min(y[x_ind]) < x_min: x_min -= 1\n",
        "\n",
        "  # Make sure the upper and lower bounds on phi are OK\n",
        "  while max(y[phi_ind]) > phi_max: phi_max += 1\n",
        "  while min(y[phi_ind]) < phi_min: phi_min -= 1\n",
        "  phi_max+=1\n",
        "  phi_min-=1\n",
        "\n",
        "  # Make sure the upper and lower bounds on Fe are OK\n",
        "  if len(u.shape)>1:\n",
        "    while max(u[Fe_ind]) > Fe_max: Fe_max += 1\n",
        "    while min(u[Fe_ind]) < Fe_min: Fe_min -= 1\n",
        "  else:\n",
        "    while max(u) > Fe_max: Fe_max += 1\n",
        "    while min(u) < Fe_min: Fe_min -= 1\n",
        "  Fe_max += Fe_max*0.1\n",
        "\n",
        "  # Create arrays for return values\n",
        "  subplot_axes = subplots.copy()\n",
        "\n",
        "  # Position profile\n",
        "  if subplot_axes[0] is None:\n",
        "    subplot_axes[0] = plt.subplot(3,1,1)\n",
        "  else:\n",
        "    plt.sca(subplots[0])\n",
        "  plt.plot(t, y[x_ind], linetype)\n",
        "  plt.plot(t, x_ref*np.ones(t.shape), 'k-')\n",
        "  plt.plot([t_start_input, t_start_input], [x_min, x_max], 'k--')\n",
        "  plt.axis([0, t[-1], x_min, x_max])\n",
        "  plt.xlabel('Time $t$ [s]')\n",
        "  plt.ylabel('Port crane \\nposition $x$')\n",
        "  plt.grid(color='0.5')\n",
        "  \n",
        "  # Angle phi profile\n",
        "  if subplot_axes[1] is None:\n",
        "    subplot_axes[1] = plt.subplot(3,1,2)\n",
        "  else:\n",
        "    plt.sca(subplots[1])\n",
        "  plt.plot(t, y[phi_ind], linetype)\n",
        "  plt.plot([t_start_input, t_start_input], [phi_min, phi_max], 'k--')\n",
        "  plt.axis([0, t[-1], phi_min, phi_max])\n",
        "  plt.xlabel('Time $t$ [s]')\n",
        "  plt.ylabel('deflection of the\\n rope angle\\n $\\phi$ in $\\circ$')\n",
        "  plt.grid(color='0.5')\n",
        "\n",
        "  # Pulling force\n",
        "  if subplot_axes[2] is None:\n",
        "    subplot_axes[2] = plt.subplot(3,1,3)\n",
        "  else:\n",
        "    plt.sca(subplots[2])\n",
        "  if len(u.shape)>1:\n",
        "    plt.plot(t, u[Fe_ind], linetype)\n",
        "  else:\n",
        "    plt.plot(t, u, linetype)\n",
        "  plt.plot([t_start_input, t_start_input], [Fe_min, Fe_max], 'k--')\n",
        "  plt.axis([0, t[-1], Fe_min, Fe_max])\n",
        "  plt.xlabel('Time $t$ [s]')\n",
        "  plt.ylabel('pulling force Fe,\\n $Newton$')\n",
        "  plt.grid(color='0.5')\n",
        "  \n",
        "  return subplot_axes"
      ],
      "execution_count": 151,
      "outputs": []
    },
    {
      "cell_type": "code",
      "metadata": {
        "id": "9Esc7WNXhqhB"
      },
      "source": [
        "#Input/ouput model for the object\n",
        "sys_object = ct.NonlinearIOSystem(port_crane_updfcn, port_crane_outfcn, \n",
        "                   inputs = ('Fe'), outputs = None, states=('x','dx','phi','dphi'),\n",
        "                   name='sys_object',params={})"
      ],
      "execution_count": 248,
      "outputs": []
    },
    {
      "cell_type": "code",
      "metadata": {
        "colab": {
          "base_uri": "https://localhost:8080/",
          "height": 681
        },
        "id": "X6U5ez9riDd0",
        "outputId": "403662e4-2300-4e42-f8d9-c4d0c98da58d"
      },
      "source": [
        "# Define the generator for simulating an aoutonomus object whithout\n",
        "# controller, when state var equal to null. And also Fe = constant\n",
        "\n",
        "# Define the time and input vectors\n",
        "# Force starts from (time_start_force) sec and continue during  (time_application_of_force) sec of\n",
        "# interval and than force become zero before the end of tine interval \n",
        "time_start_force=5\n",
        "time_application_of_force = 10\n",
        "time_interval_stop = 40 # length of time interval in sec \n",
        "T = np.linspace(0, time_interval_stop, 1000+1)\n",
        "N_time_start_force = math.ceil((time_start_force/time_interval_stop)*(len(T)-1))\n",
        "N_time_application_of_force = math.ceil((time_application_of_force/time_interval_stop)*(len(T)-1))\n",
        "Fe = 2e3*np.concatenate(( np.zeros(N_time_start_force),\n",
        "            np.ones(N_time_application_of_force),\n",
        "            np.zeros(len(T)-N_time_start_force-N_time_application_of_force) ))\n",
        "#xref = 120*np.zeros(T.shape)\n",
        "#phiref\n",
        "\n",
        "# Find the eruilibrium point for the system\n",
        "#Xeq, Phieq = ct.find_eqpt(\n",
        "#    sys_object, [xref[0]]\n",
        "#)\n",
        "\n",
        "init_state_vars = [0,0,0,0] #[dx,ddx,dphi,ddphi]\n",
        "# Response of the system with no integral feedback term\n",
        "figsize=(20,10)\n",
        "plt.figure(figsize=figsize)  \n",
        "t, y_sfb = ct.input_output_response(sys_object, T, [Fe],init_state_vars,params={})\n",
        "subplots = system_dynamic_plot(sys_object, t, y_sfb, u=Fe,\n",
        "         t_start_input=time_start_force, linetype='-b',fig_size=figsize)\n",
        "\n",
        "# Add title and legend\n",
        "plt.suptitle('System state variables of the system without controller')\n",
        "import matplotlib.lines as mlines\n",
        "pi_line = mlines.Line2D([], [], color='blue', linestyle='-', label='without controller')"
      ],
      "execution_count": 249,
      "outputs": [
        {
          "output_type": "display_data",
          "data": {
            "image/png": "[encoded data removed]",
            "text/plain": [
              "<Figure size 1440x720 with 3 Axes>"
            ]
          },
          "metadata": {
            "tags": [],
            "needs_background": "light"
          }
        }
      ]
    },
    {
      "cell_type": "code",
      "metadata": {
        "colab": {
          "base_uri": "https://localhost:8080/"
        },
        "id": "soG1JOrRbnTZ",
        "outputId": "ae46bb30-8143-4c98-f00c-a17fe9df8570"
      },
      "source": [
        "#from sympy import Piecewise\n",
        "c=sympy.symbols('c')\n",
        "d=sympy.symbols('d')\n",
        "a= sympy.Piecewise((c+d, c==4 ) ,(c-d,True))\n",
        "c=2\n",
        "d=4\n",
        "print(a.subs({'c':c,'d':d}) )"
      ],
      "execution_count": 126,
      "outputs": [
        {
          "output_type": "stream",
          "text": [
            "-2\n",
            "5.71672847093920\n"
          ],
          "name": "stdout"
        }
      ]
    },
    {
      "cell_type": "code",
      "metadata": {
        "colab": {
          "base_uri": "https://localhost:8080/"
        },
        "id": "ze_PqSeBoUz8",
        "outputId": "bc27372d-904c-42d0-81a5-35b3608f68b1"
      },
      "source": [
        "\n",
        "print(ddx[0].evalf(subs={ 'x':3,'dx':2,'phi':2,'dphi':2,'m':230,'M':6000,'k1':0,'k2':0,'g':9.8,'L':30,'Fe':800 }))"
      ],
      "execution_count": 168,
      "outputs": [
        {
          "output_type": "stream",
          "text": [
            "2.14258499040039\n"
          ],
          "name": "stdout"
        }
      ]
    },
    {
      "cell_type": "code",
      "metadata": {
        "colab": {
          "base_uri": "https://localhost:8080/"
        },
        "id": "EinfR5dkkBDm",
        "outputId": "de5f2ddd-a789-4211-d6a0-c960bfdef6eb"
      },
      "source": [
        "type(a)"
      ],
      "execution_count": 109,
      "outputs": [
        {
          "output_type": "execute_result",
          "data": {
            "text/plain": [
              "sympy.core.add.Add"
            ]
          },
          "metadata": {
            "tags": []
          },
          "execution_count": 109
        }
      ]
    },
    {
      "cell_type": "markdown",
      "metadata": {
        "id": "3aJRN2dDkAtc"
      },
      "source": [
        ""
      ]
    },
    {
      "cell_type": "code",
      "metadata": {
        "id": "6gu0FtRsTjzt"
      },
      "source": [
        "def port_crane_outdcn(t ,x ,u , param={})\n",
        "  # Get the port crane parameters that we need\n",
        "  "
      ],
      "execution_count": null,
      "outputs": []
    }
  ]
}