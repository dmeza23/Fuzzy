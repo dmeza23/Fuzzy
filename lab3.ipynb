{
  "nbformat": 4,
  "nbformat_minor": 0,
  "metadata": {
    "colab": {
      "name": "Untitled0.ipynb",
      "provenance": [],
      "authorship_tag": "ABX9TyP1uqq9h82cYjQmMk/zb8+s",
      "include_colab_link": true
    },
    "kernelspec": {
      "name": "python3",
      "display_name": "Python 3"
    },
    "language_info": {
      "name": "python"
    }
  },
  "cells": [
    {
      "cell_type": "markdown",
      "metadata": {
        "id": "view-in-github",
        "colab_type": "text"
      },
      "source": [
        "<a href=\"https://colab.research.google.com/github/my000own000files1/Fuzzy/blob/main/lab3.ipynb\" target=\"_parent\"><img src=\"https://colab.research.google.com/assets/colab-badge.svg\" alt=\"Open In Colab\"/></a>"
      ]
    },
    {
      "cell_type": "markdown",
      "metadata": {
        "id": "od-nR1wRDsmp"
      },
      "source": [
        ""
      ]
    },
    {
      "cell_type": "code",
      "metadata": {
        "id": "tD18KDkyD34o"
      },
      "source": [
        "!pip install -U scikit-fuzzy"
      ],
      "execution_count": null,
      "outputs": []
    },
    {
      "cell_type": "code",
      "metadata": {
        "id": "C65Eh33CQ6BS"
      },
      "source": [
        "!pip install -U control"
      ],
      "execution_count": null,
      "outputs": []
    },
    {
      "cell_type": "code",
      "metadata": {
        "id": "qS7jAwJMETzx"
      },
      "source": [
        "import numpy as np\n",
        "import skfuzzy as fuzz\n",
        "from skfuzzy import control as ctrl\n",
        "import control as ct\n",
        "from control.matlab import * #I want to have a MATLAB-like environment\n",
        "import matplotlib.pyplot as plt"
      ],
      "execution_count": null,
      "outputs": []
    },
    {
      "cell_type": "code",
      "metadata": {
        "id": "RcvDGO12Dri1"
      },
      "source": [
        "#creating object dynamics\n",
        "def port_crane_updfcn(t,x,u,params={})\n",
        "  \"\"\"A port crane with a cargo on a rope dynamics (like object) \n",
        "  assumptions: by all perturbations such as the rolling friction\n",
        "   force at the point of contact with the rails, air resistance,\n",
        "    we also assume that the cable is inextensible, i.e. L=const\n",
        "\n",
        "  Parameters\n",
        "  ----------\n",
        "  x: array \n",
        "      System state: [x,dx,phi,dphi], where x is a port crane (object) position\n",
        "      in [0,200] [m], dx is velocity of the port crane in m/s, phi is an angle\n",
        "      of deflection of the rope with a container, which is a cargo and attached\n",
        "      to the end of the rope in rad, dphi is angular velocity of the rope \n",
        "      deflection in rad/sec\n",
        "\n",
        "  u: array\n",
        "      System inputs: [Fx], where Fx is a pulling force exerted on the\n",
        "      trolley, created by electric motor in Newton\n",
        "\n",
        "  Returns \n",
        "  -------\n",
        "  float\n",
        "      [ddx,ddphi], where ddx is a port crane acceleration in m/s^2 and ddphi is \n",
        "      angular acceleration in rad/s^2\n",
        "  \"\"\"\n",
        "\n",
        "  from math import son,cos\n",
        "\n",
        "  # Set up the system parameters\n",
        "  m = params.get('m', 4000.)  # cargo mass in kg\n",
        "  M = params.get('M', 10000.) # port crane mass in kg\n",
        "  g = params.get('g', 9.8)    # gravitational constant, m/s^2\n",
        "  L = params.get('L', 30)     # length of the drope in m\n",
        "\n",
        "  # Define variables for object state\n",
        "  x = x[0]    # port crane position in m\n",
        "  dx = x[1]   # velocity of the port crane in m/s\n",
        "  phi = x[2]  # deflection of the rope angle in rad\n",
        "  dphi = x[3] # angular velocity of the rope deflection in rad/sec\n",
        "\n",
        "  #Define variables for object inputs\n",
        "  Fx = u[0]   # pulling force exerted on the trolley in Newtons\n",
        "\n",
        "  # calculating the output variables\n",
        "  ddx = (Fx + m*sin(phi)*(L*dphi**2+g*cos(phi))/(M + m*(sin(phi))**2)\n",
        "  ddphi = ((-1)/L)*(ddx*cos(phi) + g*sin(phi))"
      ],
      "execution_count": null,
      "outputs": []
    }
  ]
}