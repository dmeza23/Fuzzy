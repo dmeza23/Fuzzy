{
  "nbformat": 4,
  "nbformat_minor": 0,
  "metadata": {
    "colab": {
      "name": "Untitled0.ipynb",
      "provenance": [],
      "authorship_tag": "ABX9TyOIrB+0E5sh7ivnaYsfuAF3",
      "include_colab_link": true
    },
    "kernelspec": {
      "name": "python3",
      "display_name": "Python 3"
    },
    "language_info": {
      "name": "python"
    }
  },
  "cells": [
    {
      "cell_type": "markdown",
      "metadata": {
        "id": "view-in-github",
        "colab_type": "text"
      },
      "source": [
        "<a href=\"https://colab.research.google.com/github/my000own000files1/Fuzzy/blob/main/lab2.ipynb\" target=\"_parent\"><img src=\"https://colab.research.google.com/assets/colab-badge.svg\" alt=\"Open In Colab\"/></a>"
      ]
    },
    {
      "cell_type": "code",
      "metadata": {
        "colab": {
          "base_uri": "https://localhost:8080/"
        },
        "id": "uaR0GwZNJElJ",
        "outputId": "17c80e5e-47e6-4290-d2a7-7dca098fcc10"
      },
      "source": [
        "!git clone https://github.com/my000own000files1/scikit-fuzzy.git"
      ],
      "execution_count": 26,
      "outputs": [
        {
          "output_type": "stream",
          "text": [
            "Cloning into 'scikit-fuzzy'...\n",
            "remote: Enumerating objects: 2535, done.\u001b[K\n",
            "remote: Counting objects: 100% (27/27), done.\u001b[K\n",
            "remote: Compressing objects: 100% (27/27), done.\u001b[K\n",
            "remote: Total 2535 (delta 14), reused 3 (delta 0), pack-reused 2508\u001b[K\n",
            "Receiving objects: 100% (2535/2535), 5.01 MiB | 7.17 MiB/s, done.\n",
            "Resolving deltas: 100% (1528/1528), done.\n"
          ],
          "name": "stdout"
        }
      ]
    },
    {
      "cell_type": "code",
      "metadata": {
        "colab": {
          "base_uri": "https://localhost:8080/"
        },
        "id": "uUP3UwtLO7b3",
        "outputId": "d2069929-0193-4175-b46d-33270f062692"
      },
      "source": [
        "#удаление и установка пакета из репозитория заново\n",
        "!rm -r scikit-fuzzy/\n",
        "!git clone https://github.com/my000own000files1/scikit-fuzzy.git\n",
        "!cd scikit-fuzzy/\n",
        "!pip install -e ."
      ],
      "execution_count": 109,
      "outputs": [
        {
          "output_type": "stream",
          "text": [
            "Cloning into 'scikit-fuzzy'...\n",
            "remote: Enumerating objects: 2535, done.\u001b[K\n",
            "remote: Counting objects: 100% (27/27), done.\u001b[K\n",
            "remote: Compressing objects: 100% (27/27), done.\u001b[K\n",
            "remote: Total 2535 (delta 14), reused 3 (delta 0), pack-reused 2508\u001b[K\n",
            "Receiving objects: 100% (2535/2535), 5.01 MiB | 12.67 MiB/s, done.\n",
            "Resolving deltas: 100% (1528/1528), done.\n",
            "\u001b[31mERROR: File \"setup.py\" not found. Directory cannot be installed in editable mode: /content\u001b[0m\n"
          ],
          "name": "stdout"
        }
      ]
    },
    {
      "cell_type": "code",
      "metadata": {
        "colab": {
          "base_uri": "https://localhost:8080/"
        },
        "id": "9AmxAi1YMpda",
        "outputId": "290509bf-a4e7-4fc7-eaa1-824f099398df"
      },
      "source": [
        "cd scikit-fuzzy/"
      ],
      "execution_count": 28,
      "outputs": [
        {
          "output_type": "stream",
          "text": [
            "/content/scikit-fuzzy\n"
          ],
          "name": "stdout"
        }
      ]
    },
    {
      "cell_type": "code",
      "metadata": {
        "colab": {
          "base_uri": "https://localhost:8080/"
        },
        "id": "vu6i92HCNi8O",
        "outputId": "abb28ae9-9e04-45e5-8855-8584ab133dfd"
      },
      "source": [
        "cd .."
      ],
      "execution_count": 19,
      "outputs": [
        {
          "output_type": "stream",
          "text": [
            "/\n"
          ],
          "name": "stdout"
        }
      ]
    },
    {
      "cell_type": "code",
      "metadata": {
        "colab": {
          "base_uri": "https://localhost:8080/"
        },
        "id": "RZkavv50Q4HD",
        "outputId": "ea9c73d3-1f68-47f7-e154-c651ab933683"
      },
      "source": [
        "cd content/"
      ],
      "execution_count": 25,
      "outputs": [
        {
          "output_type": "stream",
          "text": [
            "/content\n"
          ],
          "name": "stdout"
        }
      ]
    },
    {
      "cell_type": "code",
      "metadata": {
        "id": "WLoa8RzrNoHo"
      },
      "source": [
        "rm -r scikit-fuzzy/"
      ],
      "execution_count": 37,
      "outputs": []
    },
    {
      "cell_type": "code",
      "metadata": {
        "id": "PP1RS3avVZpe"
      },
      "source": [
        "rm -r skfuzzy/"
      ],
      "execution_count": 10,
      "outputs": []
    },
    {
      "cell_type": "code",
      "metadata": {
        "colab": {
          "base_uri": "https://localhost:8080/"
        },
        "id": "CAIJCb43Rt4s",
        "outputId": "b5fa1689-ac5f-4a7f-ec39-e254a27dd899"
      },
      "source": [
        "cd skfuzzy/"
      ],
      "execution_count": 11,
      "outputs": [
        {
          "output_type": "stream",
          "text": [
            "[Errno 2] No such file or directory: 'skfuzzy/'\n",
            "/usr/local/lib/python3.7/dist-packages\n"
          ],
          "name": "stdout"
        }
      ]
    },
    {
      "cell_type": "code",
      "metadata": {
        "colab": {
          "base_uri": "https://localhost:8080/"
        },
        "id": "_72w4tx1RzaC",
        "outputId": "2bfe203b-8b8d-4dbb-c410-4a5b7fc57928"
      },
      "source": [
        "cd control"
      ],
      "execution_count": 90,
      "outputs": [
        {
          "output_type": "stream",
          "text": [
            "/content/scikit-fuzzy/skfuzzy/control\n"
          ],
          "name": "stdout"
        }
      ]
    },
    {
      "cell_type": "code",
      "metadata": {
        "id": "6Xj2nrP-R6wE"
      },
      "source": [
        "edit controlsystem.py"
      ],
      "execution_count": 96,
      "outputs": []
    },
    {
      "cell_type": "code",
      "metadata": {
        "id": "Zmxi8PUnU-b4",
        "outputId": "d55306bb-7e3c-4196-9e61-eb35fd4696a8",
        "colab": {
          "base_uri": "https://localhost:8080/"
        }
      },
      "source": [
        "cd /usr/local/lib/python3.7/dist-packages/skfuzzy"
      ],
      "execution_count": 14,
      "outputs": [
        {
          "output_type": "stream",
          "text": [
            "[Errno 2] No such file or directory: '/usr/local/lib/python3.7/dist-packages/skfuzzy'\n",
            "/usr/local/lib/python3.7/dist-packages\n"
          ],
          "name": "stdout"
        }
      ]
    },
    {
      "cell_type": "code",
      "metadata": {
        "colab": {
          "base_uri": "https://localhost:8080/"
        },
        "id": "QylPf7fuM4EY",
        "outputId": "426ac439-30f8-41a3-90d6-1663a3a96ed2"
      },
      "source": [
        "ls"
      ],
      "execution_count": 20,
      "outputs": [
        {
          "output_type": "stream",
          "text": [
            "\u001b[0m\u001b[01;34mbin\u001b[0m/      \u001b[01;34mdatalab\u001b[0m/  \u001b[01;34mhome\u001b[0m/   \u001b[01;34mlib64\u001b[0m/  \u001b[01;34mopt\u001b[0m/   \u001b[01;34mrun\u001b[0m/   \u001b[01;34msys\u001b[0m/                \u001b[01;34mtools\u001b[0m/\n",
            "\u001b[01;34mboot\u001b[0m/     \u001b[01;34mdev\u001b[0m/      \u001b[01;34mlib\u001b[0m/    \u001b[01;34mmedia\u001b[0m/  \u001b[01;34mproc\u001b[0m/  \u001b[01;34msbin\u001b[0m/  \u001b[01;34mtensorflow-1.15.2\u001b[0m/  \u001b[01;34musr\u001b[0m/\n",
            "\u001b[01;34mcontent\u001b[0m/  \u001b[01;34metc\u001b[0m/      \u001b[01;34mlib32\u001b[0m/  \u001b[01;34mmnt\u001b[0m/    \u001b[01;34mroot\u001b[0m/  \u001b[01;34msrv\u001b[0m/   \u001b[30;42mtmp\u001b[0m/                \u001b[01;34mvar\u001b[0m/\n"
          ],
          "name": "stdout"
        }
      ]
    },
    {
      "cell_type": "code",
      "metadata": {
        "colab": {
          "base_uri": "https://localhost:8080/"
        },
        "id": "fZKzIex_MDr2",
        "outputId": "29c33b38-94da-4c42-f5db-54e90a1605f1"
      },
      "source": [
        "!pip install -e ."
      ],
      "execution_count": 40,
      "outputs": [
        {
          "output_type": "stream",
          "text": [
            "\u001b[31mERROR: File \"setup.py\" not found. Directory cannot be installed in editable mode: /content\u001b[0m\n"
          ],
          "name": "stdout"
        }
      ]
    },
    {
      "cell_type": "code",
      "metadata": {
        "id": "1dGK8RwFYKBQ"
      },
      "source": [
        "rm -r /usr/local/lib/python3.7/dist-packages/skfuzzy/"
      ],
      "execution_count": 42,
      "outputs": []
    },
    {
      "cell_type": "code",
      "metadata": {
        "colab": {
          "base_uri": "https://localhost:8080/"
        },
        "id": "lMgtSvMC_5A0",
        "outputId": "1d282e92-94ac-49a0-b3a6-985373e8b0dd"
      },
      "source": [
        "!pip install -U scikit-fuzzy"
      ],
      "execution_count": 1,
      "outputs": [
        {
          "output_type": "stream",
          "text": [
            "Requirement already up-to-date: scikit-fuzzy in /usr/local/lib/python3.7/dist-packages (0.4.2)\n",
            "Requirement already satisfied, skipping upgrade: numpy>=1.6.0 in /usr/local/lib/python3.7/dist-packages (from scikit-fuzzy) (1.19.5)\n",
            "Requirement already satisfied, skipping upgrade: scipy>=0.9.0 in /usr/local/lib/python3.7/dist-packages (from scikit-fuzzy) (1.4.1)\n",
            "Requirement already satisfied, skipping upgrade: networkx>=1.9.0 in /usr/local/lib/python3.7/dist-packages (from scikit-fuzzy) (2.5.1)\n",
            "Requirement already satisfied, skipping upgrade: decorator<5,>=4.3 in /usr/local/lib/python3.7/dist-packages (from networkx>=1.9.0->scikit-fuzzy) (4.4.2)\n"
          ],
          "name": "stdout"
        }
      ]
    },
    {
      "cell_type": "markdown",
      "metadata": {
        "id": "eWV4kWVzajH0"
      },
      "source": [
        "Сгенерировали нечёткую систему:"
      ]
    },
    {
      "cell_type": "code",
      "metadata": {
        "id": "uHrvuKgIaYuu",
        "colab": {
          "base_uri": "https://localhost:8080/",
          "height": 381
        },
        "outputId": "c38d2799-ba2a-4f0b-890d-541a715de2b2"
      },
      "source": [
        "import numpy as np\n",
        "import skfuzzy as fuzz\n",
        "from skfuzzy import control as ctrl\n",
        "import matplotlib.pyplot as plt\n",
        "\n",
        "# New Antecedent/Consequent objects hold universe variables and membership\n",
        "# functions\n",
        "N=10000 # нужно для приближения к Singletons\n",
        "step=1/N\n",
        "X = ctrl.Antecedent(np.arange(-20, 21, 1), 'X')\n",
        "Y = ctrl.Consequent(np.linspace(0, 1, int(N+1)), 'Y')\n",
        "\n",
        "# Custom membership functions can be built interactively with a familiar,\n",
        "# Pythonic API\n",
        "cuant = ['NL','NS','NULL','PS','PL']\n",
        "X[cuant[0]] = fuzz.trimf(X.universe, [-20, -20, -2])\n",
        "X[cuant[1]] = fuzz.trimf(X.universe, [-20, -2, 0])\n",
        "X[cuant[2]] = fuzz.trimf(X.universe, [-2, 0,2])\n",
        "X[cuant[3]] = fuzz.trimf(X.universe, [0, 2, 20])\n",
        "X[cuant[4]] = fuzz.trimf(X.universe, [2, 20, 20])\n",
        "\n",
        "step = 0.1\n",
        "Y[cuant[0]] = fuzz.trimf(Y.universe, [0, 0, 0+step])\n",
        "Y[cuant[1]] = fuzz.trimf(Y.universe, [0.1-step, 0.1, 0.1+step])\n",
        "Y[cuant[2]] = fuzz.trimf(Y.universe, [0.5-step, 0.5, 0.5+step])\n",
        "Y[cuant[3]] = fuzz.trimf(Y.universe, [0.9-step, 0.9, 0.9+step])\n",
        "Y[cuant[4]] = fuzz.trimf(Y.universe, [1-step, 1, 1])\n",
        "\n",
        "# You can see how these look with .view()\n",
        "X.view()\n",
        "Y.view()"
      ],
      "execution_count": 3,
      "outputs": [
        {
          "output_type": "error",
          "ename": "ModuleNotFoundError",
          "evalue": "ignored",
          "traceback": [
            "\u001b[0;31m---------------------------------------------------------------------------\u001b[0m",
            "\u001b[0;31mModuleNotFoundError\u001b[0m                       Traceback (most recent call last)",
            "\u001b[0;32m<ipython-input-3-39d56b6ff9cf>\u001b[0m in \u001b[0;36m<module>\u001b[0;34m()\u001b[0m\n\u001b[1;32m      1\u001b[0m \u001b[0;32mimport\u001b[0m \u001b[0mnumpy\u001b[0m \u001b[0;32mas\u001b[0m \u001b[0mnp\u001b[0m\u001b[0;34m\u001b[0m\u001b[0;34m\u001b[0m\u001b[0m\n\u001b[0;32m----> 2\u001b[0;31m \u001b[0;32mimport\u001b[0m \u001b[0mskfuzzy\u001b[0m \u001b[0;32mas\u001b[0m \u001b[0mfuzz\u001b[0m\u001b[0;34m\u001b[0m\u001b[0;34m\u001b[0m\u001b[0m\n\u001b[0m\u001b[1;32m      3\u001b[0m \u001b[0;32mfrom\u001b[0m \u001b[0mskfuzzy\u001b[0m \u001b[0;32mimport\u001b[0m \u001b[0mcontrol\u001b[0m \u001b[0;32mas\u001b[0m \u001b[0mctrl\u001b[0m\u001b[0;34m\u001b[0m\u001b[0;34m\u001b[0m\u001b[0m\n\u001b[1;32m      4\u001b[0m \u001b[0;32mimport\u001b[0m \u001b[0mmatplotlib\u001b[0m\u001b[0;34m.\u001b[0m\u001b[0mpyplot\u001b[0m \u001b[0;32mas\u001b[0m \u001b[0mplt\u001b[0m\u001b[0;34m\u001b[0m\u001b[0;34m\u001b[0m\u001b[0m\n\u001b[1;32m      5\u001b[0m \u001b[0;34m\u001b[0m\u001b[0m\n",
            "\u001b[0;31mModuleNotFoundError\u001b[0m: No module named 'skfuzzy'",
            "",
            "\u001b[0;31m---------------------------------------------------------------------------\u001b[0;32m\nNOTE: If your import is failing due to a missing package, you can\nmanually install dependencies using either !pip or !apt.\n\nTo view examples of installing some common dependencies, click the\n\"Open Examples\" button below.\n\u001b[0;31m---------------------------------------------------------------------------\u001b[0m\n"
          ]
        }
      ]
    },
    {
      "cell_type": "code",
      "metadata": {
        "id": "iBr2L0ynHBuV"
      },
      "source": [
        "#создание базы правил нечеткой системы\n",
        "#Fuzzy rules\n",
        "rule1 = ctrl.Rule(X[cuant[0]], Y[cuant[4]])\n",
        "rule2 = ctrl.Rule(X[cuant[1]], Y[cuant[3]])\n",
        "rule3 = ctrl.Rule(X[cuant[2]], Y[cuant[2]])\n",
        "rule4 = ctrl.Rule(X[cuant[3]], Y[cuant[1]])\n",
        "rule5 = ctrl.Rule(X[cuant[4]], Y[cuant[0]])"
      ],
      "execution_count": 32,
      "outputs": []
    },
    {
      "cell_type": "code",
      "metadata": {
        "id": "-qW1ar_ZKrYH"
      },
      "source": [
        "#Control System Creation and Simulation\n",
        "sys_ctrl = ctrl.ControlSystem([rule1, rule2, rule3, rule4 , rule5])\n",
        "sys_sim = ctrl.ControlSystemSimulation(sys_ctrl)"
      ],
      "execution_count": 33,
      "outputs": []
    },
    {
      "cell_type": "code",
      "metadata": {
        "id": "1N3BccKOUQil"
      },
      "source": [
        "N = 1000 ; # кол-во точек в линейной функции входа \n",
        "x_min=-20\n",
        "x_max=20\n",
        "#step = (x_max-x_min)/N\n",
        "x_in = np.linspace(x_min,x_max,N+1) #формируем входной массив для x для построения графика\n",
        "y_out = []\n",
        "for x in x_in:\n",
        "  sys_sim.input['X'] = x\n",
        "  sys_sim.compute()\n",
        "  y_out.extend([sys_sim.output['Y']])\n",
        "\n",
        "fig = plt.figure()\n",
        "plt.plot(x_in, y_out)\n",
        "plt.title('Статическая характеристика нечёткого регулятора')\n",
        "plt.ylabel('Y')\n",
        "plt.xlabel('X')\n",
        "plt.grid(True)"
      ],
      "execution_count": null,
      "outputs": []
    },
    {
      "cell_type": "code",
      "metadata": {
        "id": "ItDNEeLSLhOL",
        "colab": {
          "base_uri": "https://localhost:8080/",
          "height": 316
        },
        "outputId": "1ccaa9a7-a41f-4fc3-fd0c-5877322d4089"
      },
      "source": [
        "sys_sim.input['X'] = -10\n",
        "sys_sim.compute()\n",
        "\n",
        "print( sys_sim.output['Y'])\n",
        "Y.view(sim=sys_sim)"
      ],
      "execution_count": 39,
      "outputs": [
        {
          "output_type": "stream",
          "text": [
            "test library changes\n",
            "0.8555555555555556\n"
          ],
          "name": "stdout"
        },
        {
          "output_type": "display_data",
          "data": {
            "image/png": "[encoded data removed]",
            "text/plain": [
              "<Figure size 432x288 with 1 Axes>"
            ]
          },
          "metadata": {
            "tags": [],
            "needs_background": "light"
          }
        }
      ]
    }
  ]
}