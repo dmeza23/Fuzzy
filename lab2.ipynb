{
  "nbformat": 4,
  "nbformat_minor": 0,
  "metadata": {
    "colab": {
      "name": "Untitled0.ipynb",
      "provenance": [],
      "authorship_tag": "ABX9TyNBCOCJWHziEfDiFfY7ZkcD",
      "include_colab_link": true
    },
    "kernelspec": {
      "name": "python3",
      "display_name": "Python 3"
    },
    "language_info": {
      "name": "python"
    }
  },
  "cells": [
    {
      "cell_type": "markdown",
      "metadata": {
        "id": "view-in-github",
        "colab_type": "text"
      },
      "source": [
        "<a href=\"https://colab.research.google.com/github/my000own000files1/Fuzzy/blob/main/lab2.ipynb\" target=\"_parent\"><img src=\"https://colab.research.google.com/assets/colab-badge.svg\" alt=\"Open In Colab\"/></a>"
      ]
    },
    {
      "cell_type": "markdown",
      "metadata": {
        "id": "eWV4kWVzajH0"
      },
      "source": [
        "Сгенерировали нечёткую систему:"
      ]
    },
    {
      "cell_type": "code",
      "metadata": {
        "id": "uHrvuKgIaYuu"
      },
      "source": [
        "import numpy as np\n",
        "import skfuzzy as fuzz\n",
        "from skfuzzy import control as ctrl\n",
        "\n",
        "# New Antecedent/Consequent objects hold universe variables and membership\n",
        "# functions\n",
        "X = ctrl.Antecedent(np.arange(-20, 21, 1), 'X')\n",
        "Y = ctrl.Consequent(np.arange(0, 26, 1), 'Y')\n",
        "\n",
        "# Auto-membership function population is possible with .automf(3, 5, or 7)\n",
        "X.automf(5,variable_type='cuant')\n",
        "Y.automf(5,variable_type='cuant')\n",
        "\n",
        "# You can see how these look with .view()\n",
        "X.view()\n",
        "Y.view()"
      ],
      "execution_count": null,
      "outputs": []
    }
  ]
}