{
  "nbformat": 4,
  "nbformat_minor": 0,
  "metadata": {
    "colab": {
      "name": "Untitled0.ipynb",
      "provenance": [],
      "authorship_tag": "ABX9TyOTR0UujqalFNhr5HGmd/EN",
      "include_colab_link": true
    },
    "kernelspec": {
      "name": "python3",
      "display_name": "Python 3"
    },
    "language_info": {
      "name": "python"
    }
  },
  "cells": [
    {
      "cell_type": "markdown",
      "metadata": {
        "id": "view-in-github",
        "colab_type": "text"
      },
      "source": [
        "<a href=\"https://colab.research.google.com/github/my000own000files1/Fuzzy/blob/main/lab2.ipynb\" target=\"_parent\"><img src=\"https://colab.research.google.com/assets/colab-badge.svg\" alt=\"Open In Colab\"/></a>"
      ]
    },
    {
      "cell_type": "code",
      "metadata": {
        "id": "vnghj4w3dt4h",
        "outputId": "47676d02-7aba-4226-a36f-9bdc72a16388",
        "colab": {
          "base_uri": "https://localhost:8080/"
        }
      },
      "source": [
        "# установка пакета из форка репозитория с необходимыми изменениями\n",
        "!git clone https://github.com/my000own000files1/scikit-fuzzy.git"
      ],
      "execution_count": 6,
      "outputs": [
        {
          "output_type": "stream",
          "text": [
            "fatal: destination path 'scikit-fuzzy' already exists and is not an empty directory.\n",
            "\u001b[31mERROR: File \"setup.py\" not found. Directory cannot be installed in editable mode: /content\u001b[0m\n"
          ],
          "name": "stdout"
        }
      ]
    },
    {
      "cell_type": "code",
      "metadata": {
        "id": "3T5u6U5FeLeY"
      },
      "source": [
        "!cd scikit-fuzzy/"
      ],
      "execution_count": null,
      "outputs": []
    },
    {
      "cell_type": "code",
      "metadata": {
        "id": "SDCZ6mz-eQ_W"
      },
      "source": [
        "!pip install -e ."
      ],
      "execution_count": null,
      "outputs": []
    },
    {
      "cell_type": "code",
      "metadata": {
        "colab": {
          "base_uri": "https://localhost:8080/"
        },
        "id": "uUP3UwtLO7b3",
        "outputId": "d2069929-0193-4175-b46d-33270f062692"
      },
      "source": [
        "# удаление старого и установка нового пакета из форка репозитория с необходимыми изменениями\n",
        "#!rm -r scikit-fuzzy/"
      ],
      "execution_count": null,
      "outputs": [
        {
          "output_type": "stream",
          "text": [
            "Cloning into 'scikit-fuzzy'...\n",
            "remote: Enumerating objects: 2535, done.\u001b[K\n",
            "remote: Counting objects: 100% (27/27), done.\u001b[K\n",
            "remote: Compressing objects: 100% (27/27), done.\u001b[K\n",
            "remote: Total 2535 (delta 14), reused 3 (delta 0), pack-reused 2508\u001b[K\n",
            "Receiving objects: 100% (2535/2535), 5.01 MiB | 12.67 MiB/s, done.\n",
            "Resolving deltas: 100% (1528/1528), done.\n",
            "\u001b[31mERROR: File \"setup.py\" not found. Directory cannot be installed in editable mode: /content\u001b[0m\n"
          ],
          "name": "stdout"
        }
      ]
    },
    {
      "cell_type": "code",
      "metadata": {
        "colab": {
          "base_uri": "https://localhost:8080/"
        },
        "id": "lMgtSvMC_5A0",
        "outputId": "2a3c3353-320b-4bc7-aa66-b3c9ce08d450"
      },
      "source": [
        "#установка оригинального репозитория \n",
        "#!pip install -U scikit-fuzzy"
      ],
      "execution_count": 2,
      "outputs": [
        {
          "output_type": "stream",
          "text": [
            "Collecting scikit-fuzzy\n",
            "\u001b[?25l  Downloading https://files.pythonhosted.org/packages/6c/f0/5eb5dbe0fd8dfe7d4651a8f4e591a196623a22b9e5339101e559695b4f6c/scikit-fuzzy-0.4.2.tar.gz (993kB)\n",
            "\r\u001b[K     |▎                               | 10kB 12.5MB/s eta 0:00:01\r\u001b[K     |▋                               | 20kB 16.5MB/s eta 0:00:01\r\u001b[K     |█                               | 30kB 20.0MB/s eta 0:00:01\r\u001b[K     |█▎                              | 40kB 22.4MB/s eta 0:00:01\r\u001b[K     |█▋                              | 51kB 24.7MB/s eta 0:00:01\r\u001b[K     |██                              | 61kB 26.3MB/s eta 0:00:01\r\u001b[K     |██▎                             | 71kB 26.3MB/s eta 0:00:01\r\u001b[K     |██▋                             | 81kB 25.7MB/s eta 0:00:01\r\u001b[K     |███                             | 92kB 26.0MB/s eta 0:00:01\r\u001b[K     |███▎                            | 102kB 26.7MB/s eta 0:00:01\r\u001b[K     |███▋                            | 112kB 26.7MB/s eta 0:00:01\r\u001b[K     |████                            | 122kB 26.7MB/s eta 0:00:01\r\u001b[K     |████▎                           | 133kB 26.7MB/s eta 0:00:01\r\u001b[K     |████▋                           | 143kB 26.7MB/s eta 0:00:01\r\u001b[K     |█████                           | 153kB 26.7MB/s eta 0:00:01\r\u001b[K     |█████▎                          | 163kB 26.7MB/s eta 0:00:01\r\u001b[K     |█████▋                          | 174kB 26.7MB/s eta 0:00:01\r\u001b[K     |██████                          | 184kB 26.7MB/s eta 0:00:01\r\u001b[K     |██████▎                         | 194kB 26.7MB/s eta 0:00:01\r\u001b[K     |██████▋                         | 204kB 26.7MB/s eta 0:00:01\r\u001b[K     |███████                         | 215kB 26.7MB/s eta 0:00:01\r\u001b[K     |███████▎                        | 225kB 26.7MB/s eta 0:00:01\r\u001b[K     |███████▋                        | 235kB 26.7MB/s eta 0:00:01\r\u001b[K     |████████                        | 245kB 26.7MB/s eta 0:00:01\r\u001b[K     |████████▎                       | 256kB 26.7MB/s eta 0:00:01\r\u001b[K     |████████▋                       | 266kB 26.7MB/s eta 0:00:01\r\u001b[K     |█████████                       | 276kB 26.7MB/s eta 0:00:01\r\u001b[K     |█████████▎                      | 286kB 26.7MB/s eta 0:00:01\r\u001b[K     |█████████▋                      | 296kB 26.7MB/s eta 0:00:01\r\u001b[K     |██████████                      | 307kB 26.7MB/s eta 0:00:01\r\u001b[K     |██████████▏                     | 317kB 26.7MB/s eta 0:00:01\r\u001b[K     |██████████▌                     | 327kB 26.7MB/s eta 0:00:01\r\u001b[K     |██████████▉                     | 337kB 26.7MB/s eta 0:00:01\r\u001b[K     |███████████▏                    | 348kB 26.7MB/s eta 0:00:01\r\u001b[K     |███████████▌                    | 358kB 26.7MB/s eta 0:00:01\r\u001b[K     |███████████▉                    | 368kB 26.7MB/s eta 0:00:01\r\u001b[K     |████████████▏                   | 378kB 26.7MB/s eta 0:00:01\r\u001b[K     |████████████▌                   | 389kB 26.7MB/s eta 0:00:01\r\u001b[K     |████████████▉                   | 399kB 26.7MB/s eta 0:00:01\r\u001b[K     |█████████████▏                  | 409kB 26.7MB/s eta 0:00:01\r\u001b[K     |█████████████▌                  | 419kB 26.7MB/s eta 0:00:01\r\u001b[K     |█████████████▉                  | 430kB 26.7MB/s eta 0:00:01\r\u001b[K     |██████████████▏                 | 440kB 26.7MB/s eta 0:00:01\r\u001b[K     |██████████████▌                 | 450kB 26.7MB/s eta 0:00:01\r\u001b[K     |██████████████▉                 | 460kB 26.7MB/s eta 0:00:01\r\u001b[K     |███████████████▏                | 471kB 26.7MB/s eta 0:00:01\r\u001b[K     |███████████████▌                | 481kB 26.7MB/s eta 0:00:01\r\u001b[K     |███████████████▉                | 491kB 26.7MB/s eta 0:00:01\r\u001b[K     |████████████████▏               | 501kB 26.7MB/s eta 0:00:01\r\u001b[K     |████████████████▌               | 512kB 26.7MB/s eta 0:00:01\r\u001b[K     |████████████████▉               | 522kB 26.7MB/s eta 0:00:01\r\u001b[K     |█████████████████▏              | 532kB 26.7MB/s eta 0:00:01\r\u001b[K     |█████████████████▌              | 542kB 26.7MB/s eta 0:00:01\r\u001b[K     |█████████████████▉              | 552kB 26.7MB/s eta 0:00:01\r\u001b[K     |██████████████████▏             | 563kB 26.7MB/s eta 0:00:01\r\u001b[K     |██████████████████▌             | 573kB 26.7MB/s eta 0:00:01\r\u001b[K     |██████████████████▉             | 583kB 26.7MB/s eta 0:00:01\r\u001b[K     |███████████████████▏            | 593kB 26.7MB/s eta 0:00:01\r\u001b[K     |███████████████████▌            | 604kB 26.7MB/s eta 0:00:01\r\u001b[K     |███████████████████▉            | 614kB 26.7MB/s eta 0:00:01\r\u001b[K     |████████████████████            | 624kB 26.7MB/s eta 0:00:01\r\u001b[K     |████████████████████▍           | 634kB 26.7MB/s eta 0:00:01\r\u001b[K     |████████████████████▊           | 645kB 26.7MB/s eta 0:00:01\r\u001b[K     |█████████████████████           | 655kB 26.7MB/s eta 0:00:01\r\u001b[K     |█████████████████████▍          | 665kB 26.7MB/s eta 0:00:01\r\u001b[K     |█████████████████████▊          | 675kB 26.7MB/s eta 0:00:01\r\u001b[K     |██████████████████████          | 686kB 26.7MB/s eta 0:00:01\r\u001b[K     |██████████████████████▍         | 696kB 26.7MB/s eta 0:00:01\r\u001b[K     |██████████████████████▊         | 706kB 26.7MB/s eta 0:00:01\r\u001b[K     |███████████████████████         | 716kB 26.7MB/s eta 0:00:01\r\u001b[K     |███████████████████████▍        | 727kB 26.7MB/s eta 0:00:01\r\u001b[K     |███████████████████████▊        | 737kB 26.7MB/s eta 0:00:01\r\u001b[K     |████████████████████████        | 747kB 26.7MB/s eta 0:00:01\r\u001b[K     |████████████████████████▍       | 757kB 26.7MB/s eta 0:00:01\r\u001b[K     |████████████████████████▊       | 768kB 26.7MB/s eta 0:00:01\r\u001b[K     |█████████████████████████       | 778kB 26.7MB/s eta 0:00:01\r\u001b[K     |█████████████████████████▍      | 788kB 26.7MB/s eta 0:00:01\r\u001b[K     |█████████████████████████▊      | 798kB 26.7MB/s eta 0:00:01\r\u001b[K     |██████████████████████████      | 808kB 26.7MB/s eta 0:00:01\r\u001b[K     |██████████████████████████▍     | 819kB 26.7MB/s eta 0:00:01\r\u001b[K     |██████████████████████████▊     | 829kB 26.7MB/s eta 0:00:01\r\u001b[K     |███████████████████████████     | 839kB 26.7MB/s eta 0:00:01\r\u001b[K     |███████████████████████████▍    | 849kB 26.7MB/s eta 0:00:01\r\u001b[K     |███████████████████████████▊    | 860kB 26.7MB/s eta 0:00:01\r\u001b[K     |████████████████████████████    | 870kB 26.7MB/s eta 0:00:01\r\u001b[K     |████████████████████████████▍   | 880kB 26.7MB/s eta 0:00:01\r\u001b[K     |████████████████████████████▊   | 890kB 26.7MB/s eta 0:00:01\r\u001b[K     |█████████████████████████████   | 901kB 26.7MB/s eta 0:00:01\r\u001b[K     |█████████████████████████████▍  | 911kB 26.7MB/s eta 0:00:01\r\u001b[K     |█████████████████████████████▊  | 921kB 26.7MB/s eta 0:00:01\r\u001b[K     |██████████████████████████████  | 931kB 26.7MB/s eta 0:00:01\r\u001b[K     |██████████████████████████████▎ | 942kB 26.7MB/s eta 0:00:01\r\u001b[K     |██████████████████████████████▋ | 952kB 26.7MB/s eta 0:00:01\r\u001b[K     |███████████████████████████████ | 962kB 26.7MB/s eta 0:00:01\r\u001b[K     |███████████████████████████████▎| 972kB 26.7MB/s eta 0:00:01\r\u001b[K     |███████████████████████████████▋| 983kB 26.7MB/s eta 0:00:01\r\u001b[K     |████████████████████████████████| 993kB 26.7MB/s eta 0:00:01\r\u001b[K     |████████████████████████████████| 1.0MB 26.7MB/s \n",
            "\u001b[?25hRequirement already satisfied, skipping upgrade: numpy>=1.6.0 in /usr/local/lib/python3.7/dist-packages (from scikit-fuzzy) (1.19.5)\n",
            "Requirement already satisfied, skipping upgrade: scipy>=0.9.0 in /usr/local/lib/python3.7/dist-packages (from scikit-fuzzy) (1.4.1)\n",
            "Requirement already satisfied, skipping upgrade: networkx>=1.9.0 in /usr/local/lib/python3.7/dist-packages (from scikit-fuzzy) (2.5.1)\n",
            "Requirement already satisfied, skipping upgrade: decorator<5,>=4.3 in /usr/local/lib/python3.7/dist-packages (from networkx>=1.9.0->scikit-fuzzy) (4.4.2)\n",
            "Building wheels for collected packages: scikit-fuzzy\n",
            "  Building wheel for scikit-fuzzy (setup.py) ... \u001b[?25l\u001b[?25hdone\n",
            "  Created wheel for scikit-fuzzy: filename=scikit_fuzzy-0.4.2-cp37-none-any.whl size=894069 sha256=cae6ead9220deabd0b4126b62dc8b58fa58d7c4814bc809ce302c381c18e9318\n",
            "  Stored in directory: /root/.cache/pip/wheels/b9/4e/77/da79b16f64ef1738d95486e2731eea09d73e90a72465096600\n",
            "Successfully built scikit-fuzzy\n",
            "Installing collected packages: scikit-fuzzy\n",
            "Successfully installed scikit-fuzzy-0.4.2\n"
          ],
          "name": "stdout"
        }
      ]
    },
    {
      "cell_type": "markdown",
      "metadata": {
        "id": "eWV4kWVzajH0"
      },
      "source": [
        "Сгенерировали нечёткую систему:"
      ]
    },
    {
      "cell_type": "code",
      "metadata": {
        "id": "uHrvuKgIaYuu",
        "colab": {
          "base_uri": "https://localhost:8080/",
          "height": 381
        },
        "outputId": "d86ca67b-e059-47da-8386-780026752d70"
      },
      "source": [
        "import numpy as np\n",
        "import skfuzzy as fuzz\n",
        "from skfuzzy import control as ctrl\n",
        "import matplotlib.pyplot as plt\n",
        "\n",
        "# New Antecedent/Consequent objects hold universe variables and membership\n",
        "# functions\n",
        "N=10000 # нужно для приближения к Singletons\n",
        "step=1/N\n",
        "X = ctrl.Antecedent(np.arange(-20, 21, 1), 'X')\n",
        "Y = ctrl.Consequent(np.linspace(0, 1, int(N+1)), 'Y')\n",
        "\n",
        "# Custom membership functions can be built interactively with a familiar,\n",
        "# Pythonic API\n",
        "cuant = ['NL','NS','NULL','PS','PL']\n",
        "X[cuant[0]] = fuzz.trimf(X.universe, [-20, -20, -2])\n",
        "X[cuant[1]] = fuzz.trimf(X.universe, [-20, -2, 0])\n",
        "X[cuant[2]] = fuzz.trimf(X.universe, [-2, 0,2])\n",
        "X[cuant[3]] = fuzz.trimf(X.universe, [0, 2, 20])\n",
        "X[cuant[4]] = fuzz.trimf(X.universe, [2, 20, 20])\n",
        "\n",
        "step = 0.1\n",
        "Y[cuant[0]] = fuzz.trimf(Y.universe, [0, 0, 0+step])\n",
        "Y[cuant[1]] = fuzz.trimf(Y.universe, [0.1-step, 0.1, 0.1+step])\n",
        "Y[cuant[2]] = fuzz.trimf(Y.universe, [0.5-step, 0.5, 0.5+step])\n",
        "Y[cuant[3]] = fuzz.trimf(Y.universe, [0.9-step, 0.9, 0.9+step])\n",
        "Y[cuant[4]] = fuzz.trimf(Y.universe, [1-step, 1, 1])\n",
        "\n",
        "# You can see how these look with .view()\n",
        "X.view()\n",
        "Y.view()"
      ],
      "execution_count": 1,
      "outputs": [
        {
          "output_type": "error",
          "ename": "ModuleNotFoundError",
          "evalue": "ignored",
          "traceback": [
            "\u001b[0;31m---------------------------------------------------------------------------\u001b[0m",
            "\u001b[0;31mModuleNotFoundError\u001b[0m                       Traceback (most recent call last)",
            "\u001b[0;32m<ipython-input-1-39d56b6ff9cf>\u001b[0m in \u001b[0;36m<module>\u001b[0;34m()\u001b[0m\n\u001b[1;32m      1\u001b[0m \u001b[0;32mimport\u001b[0m \u001b[0mnumpy\u001b[0m \u001b[0;32mas\u001b[0m \u001b[0mnp\u001b[0m\u001b[0;34m\u001b[0m\u001b[0;34m\u001b[0m\u001b[0m\n\u001b[0;32m----> 2\u001b[0;31m \u001b[0;32mimport\u001b[0m \u001b[0mskfuzzy\u001b[0m \u001b[0;32mas\u001b[0m \u001b[0mfuzz\u001b[0m\u001b[0;34m\u001b[0m\u001b[0;34m\u001b[0m\u001b[0m\n\u001b[0m\u001b[1;32m      3\u001b[0m \u001b[0;32mfrom\u001b[0m \u001b[0mskfuzzy\u001b[0m \u001b[0;32mimport\u001b[0m \u001b[0mcontrol\u001b[0m \u001b[0;32mas\u001b[0m \u001b[0mctrl\u001b[0m\u001b[0;34m\u001b[0m\u001b[0;34m\u001b[0m\u001b[0m\n\u001b[1;32m      4\u001b[0m \u001b[0;32mimport\u001b[0m \u001b[0mmatplotlib\u001b[0m\u001b[0;34m.\u001b[0m\u001b[0mpyplot\u001b[0m \u001b[0;32mas\u001b[0m \u001b[0mplt\u001b[0m\u001b[0;34m\u001b[0m\u001b[0;34m\u001b[0m\u001b[0m\n\u001b[1;32m      5\u001b[0m \u001b[0;34m\u001b[0m\u001b[0m\n",
            "\u001b[0;31mModuleNotFoundError\u001b[0m: No module named 'skfuzzy'",
            "",
            "\u001b[0;31m---------------------------------------------------------------------------\u001b[0;32m\nNOTE: If your import is failing due to a missing package, you can\nmanually install dependencies using either !pip or !apt.\n\nTo view examples of installing some common dependencies, click the\n\"Open Examples\" button below.\n\u001b[0;31m---------------------------------------------------------------------------\u001b[0m\n"
          ]
        }
      ]
    },
    {
      "cell_type": "code",
      "metadata": {
        "id": "iBr2L0ynHBuV"
      },
      "source": [
        "#создание базы правил нечеткой системы\n",
        "#Fuzzy rules\n",
        "rule1 = ctrl.Rule(X[cuant[0]], Y[cuant[4]])\n",
        "rule2 = ctrl.Rule(X[cuant[1]], Y[cuant[3]])\n",
        "rule3 = ctrl.Rule(X[cuant[2]], Y[cuant[2]])\n",
        "rule4 = ctrl.Rule(X[cuant[3]], Y[cuant[1]])\n",
        "rule5 = ctrl.Rule(X[cuant[4]], Y[cuant[0]])"
      ],
      "execution_count": 4,
      "outputs": []
    },
    {
      "cell_type": "code",
      "metadata": {
        "id": "-qW1ar_ZKrYH"
      },
      "source": [
        "#Control System Creation and Simulation\n",
        "sys_ctrl = ctrl.ControlSystem([rule1, rule2, rule3, rule4 , rule5])\n",
        "sys_sim = ctrl.ControlSystemSimulation(sys_ctrl)"
      ],
      "execution_count": 5,
      "outputs": []
    },
    {
      "cell_type": "code",
      "metadata": {
        "id": "1N3BccKOUQil"
      },
      "source": [
        "N = 1000 ; # кол-во точек в линейной функции входа \n",
        "x_min=-20\n",
        "x_max=20\n",
        "#step = (x_max-x_min)/N\n",
        "x_in = np.linspace(x_min,x_max,N+1) #формируем входной массив для x для построения графика\n",
        "y_out = []\n",
        "for x in x_in:\n",
        "  sys_sim.input['X'] = x\n",
        "  sys_sim.compute()\n",
        "  y_out.extend([sys_sim.output['Y']])\n",
        "\n",
        "fig = plt.figure()\n",
        "plt.plot(x_in, y_out)\n",
        "plt.title('Статическая характеристика нечёткого регулятора')\n",
        "plt.ylabel('Y')\n",
        "plt.xlabel('X')\n",
        "plt.grid(True)"
      ],
      "execution_count": null,
      "outputs": []
    },
    {
      "cell_type": "code",
      "metadata": {
        "id": "ItDNEeLSLhOL",
        "colab": {
          "base_uri": "https://localhost:8080/",
          "height": 298
        },
        "outputId": "f5376c57-0ea7-4375-db8a-1e3d6c864fd0"
      },
      "source": [
        "sys_sim.input['X'] = -10\n",
        "sys_sim.compute()\n",
        "\n",
        "print( sys_sim.output['Y'])\n",
        "Y.view(sim=sys_sim)"
      ],
      "execution_count": 6,
      "outputs": [
        {
          "output_type": "stream",
          "text": [
            "0.909335369091019\n"
          ],
          "name": "stdout"
        },
        {
          "output_type": "display_data",
          "data": {
            "image/png": "[encoded data removed]",
            "text/plain": [
              "<Figure size 432x288 with 1 Axes>"
            ]
          },
          "metadata": {
            "tags": [],
            "needs_background": "light"
          }
        }
      ]
    }
  ]
}