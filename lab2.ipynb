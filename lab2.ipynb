{
  "nbformat": 4,
  "nbformat_minor": 0,
  "metadata": {
    "colab": {
      "name": "Untitled0.ipynb",
      "provenance": [],
      "authorship_tag": "ABX9TyPdnFRjl3owl+bm8HNFSwKj",
      "include_colab_link": true
    },
    "kernelspec": {
      "name": "python3",
      "display_name": "Python 3"
    },
    "language_info": {
      "name": "python"
    }
  },
  "cells": [
    {
      "cell_type": "markdown",
      "metadata": {
        "id": "view-in-github",
        "colab_type": "text"
      },
      "source": [
        "<a href=\"https://colab.research.google.com/github/my000own000files1/Fuzzy/blob/main/lab2.ipynb\" target=\"_parent\"><img src=\"https://colab.research.google.com/assets/colab-badge.svg\" alt=\"Open In Colab\"/></a>"
      ]
    },
    {
      "cell_type": "code",
      "metadata": {
        "id": "vnghj4w3dt4h"
      },
      "source": [
        "# установка пакета из форка репозитория с необходимыми изменениями\n",
        "!git clone https://github.com/my000own000files1/scikit-fuzzy.git"
      ],
      "execution_count": null,
      "outputs": []
    },
    {
      "cell_type": "code",
      "metadata": {
        "id": "3T5u6U5FeLeY"
      },
      "source": [
        "cd scikit-fuzzy/"
      ],
      "execution_count": null,
      "outputs": []
    },
    {
      "cell_type": "code",
      "metadata": {
        "id": "SDCZ6mz-eQ_W"
      },
      "source": [
        "!pip install -e ."
      ],
      "execution_count": null,
      "outputs": []
    },
    {
      "cell_type": "code",
      "metadata": {
        "id": "uUP3UwtLO7b3"
      },
      "source": [
        "# удаление старого и установка нового пакета из форка репозитория с необходимыми изменениями\n",
        "#!rm -r scikit-fuzzy/"
      ],
      "execution_count": null,
      "outputs": []
    },
    {
      "cell_type": "code",
      "metadata": {
        "id": "lMgtSvMC_5A0"
      },
      "source": [
        "#установка оригинального репозитория \n",
        "#!pip install -U scikit-fuzzy"
      ],
      "execution_count": null,
      "outputs": []
    },
    {
      "cell_type": "markdown",
      "metadata": {
        "id": "eWV4kWVzajH0"
      },
      "source": [
        "Сгенерировали нечёткую систему:"
      ]
    },
    {
      "cell_type": "code",
      "metadata": {
        "id": "uHrvuKgIaYuu"
      },
      "source": [
        "import numpy as np\n",
        "import skfuzzy as fuzz\n",
        "from skfuzzy import control as ctrl\n",
        "import matplotlib.pyplot as plt\n",
        "\n",
        "# New Antecedent/Consequent objects hold universe variables and membership\n",
        "# functions\n",
        "N=10000 # нужно для приближения к Singletons\n",
        "step=1/N\n",
        "X = ctrl.Antecedent(np.arange(-20, 21, 1), 'X')\n",
        "Y = ctrl.Consequent(np.linspace(0, 1, int(N+1)), 'Y')\n",
        "\n",
        "# Custom membership functions can be built interactively with a familiar,\n",
        "# Pythonic API\n",
        "cuant = ['NL','NS','NULL','PS','PL']\n",
        "X[cuant[0]] = fuzz.trimf(X.universe, [-20, -20, -2])\n",
        "X[cuant[1]] = fuzz.trimf(X.universe, [-20, -2, 0])\n",
        "X[cuant[2]] = fuzz.trimf(X.universe, [-2, 0,2])\n",
        "X[cuant[3]] = fuzz.trimf(X.universe, [0, 2, 20])\n",
        "X[cuant[4]] = fuzz.trimf(X.universe, [2, 20, 20])\n",
        "\n",
        "step = 0.1\n",
        "Y[cuant[0]] = fuzz.trimf(Y.universe, [0, 0, 0+step])\n",
        "Y[cuant[1]] = fuzz.trimf(Y.universe, [0.1-step, 0.1, 0.1+step])\n",
        "Y[cuant[2]] = fuzz.trimf(Y.universe, [0.5-step, 0.5, 0.5+step])\n",
        "Y[cuant[3]] = fuzz.trimf(Y.universe, [0.9-step, 0.9, 0.9+step])\n",
        "Y[cuant[4]] = fuzz.trimf(Y.universe, [1-step, 1, 1])\n",
        "\n",
        "# You can see how these look with .view()\n",
        "X.view()\n",
        "Y.view()"
      ],
      "execution_count": null,
      "outputs": []
    },
    {
      "cell_type": "code",
      "metadata": {
        "id": "iBr2L0ynHBuV"
      },
      "source": [
        "#создание базы правил нечеткой системы\n",
        "#Fuzzy rules\n",
        "rule1 = ctrl.Rule(X[cuant[0]], Y[cuant[4]])\n",
        "rule2 = ctrl.Rule(X[cuant[1]], Y[cuant[3]])\n",
        "rule3 = ctrl.Rule(X[cuant[2]], Y[cuant[2]])\n",
        "rule4 = ctrl.Rule(X[cuant[3]], Y[cuant[1]])\n",
        "rule5 = ctrl.Rule(X[cuant[4]], Y[cuant[0]])"
      ],
      "execution_count": null,
      "outputs": []
    },
    {
      "cell_type": "code",
      "metadata": {
        "id": "-qW1ar_ZKrYH"
      },
      "source": [
        "#Control System Creation \n",
        "sys_ctrl = ctrl.ControlSystem([rule1, rule2, rule3, rule4 , rule5])\n",
        "sys_sim = ctrl.ControlSystemSimulation(sys_ctrl)"
      ],
      "execution_count": null,
      "outputs": []
    },
    {
      "cell_type": "code",
      "metadata": {
        "id": "1N3BccKOUQil"
      },
      "source": [
        "##Control System Creation\n",
        "N = 1000 ; # кол-во точек в линейной функции входа \n",
        "x_min=-20\n",
        "x_max=20\n",
        "#step = (x_max-x_min)/N\n",
        "x_in = np.linspace(x_min,x_max,N+1) #формируем входной массив для x для построения графика\n",
        "y_out = []\n",
        "for x in x_in:\n",
        "  sys_sim.input['X'] = x\n",
        "  sys_sim.compute()\n",
        "  y_out.extend([sys_sim.output['Y']])\n",
        "\n",
        "fig = plt.figure()\n",
        "plt.plot(x_in, y_out)\n",
        "plt.title('Статическая характеристика нечёткого регулятора')\n",
        "plt.ylabel('Y')\n",
        "plt.xlabel('X')\n",
        "plt.grid(True)"
      ],
      "execution_count": null,
      "outputs": []
    },
    {
      "cell_type": "code",
      "metadata": {
        "id": "ItDNEeLSLhOL"
      },
      "source": [
        "sys_sim.input['X'] = -10\n",
        "sys_sim.compute()\n",
        "\n",
        "print( sys_sim.output['Y'])\n",
        "Y.view(sim=sys_sim)"
      ],
      "execution_count": null,
      "outputs": []
    }
  ]
}