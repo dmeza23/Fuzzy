{
  "nbformat": 4,
  "nbformat_minor": 0,
  "metadata": {
    "colab": {
      "name": "Untitled0.ipynb",
      "provenance": [],
      "authorship_tag": "ABX9TyOJCYSRkdHHKfwlQi7CY88v",
      "include_colab_link": true
    },
    "kernelspec": {
      "name": "python3",
      "display_name": "Python 3"
    },
    "language_info": {
      "name": "python"
    }
  },
  "cells": [
    {
      "cell_type": "markdown",
      "metadata": {
        "id": "view-in-github",
        "colab_type": "text"
      },
      "source": [
        "<a href=\"https://colab.research.google.com/github/my000own000files1/Fuzzy/blob/main/lab2.ipynb\" target=\"_parent\"><img src=\"https://colab.research.google.com/assets/colab-badge.svg\" alt=\"Open In Colab\"/></a>"
      ]
    },
    {
      "cell_type": "code",
      "metadata": {
        "id": "uaR0GwZNJElJ",
        "outputId": "0cedb930-59b1-4ca8-9bd7-8074eefa503e",
        "colab": {
          "base_uri": "https://localhost:8080/"
        }
      },
      "source": [
        "!git clone https://github.com/my000own000files1/scikit-fuzzy.git"
      ],
      "execution_count": 80,
      "outputs": [
        {
          "output_type": "stream",
          "text": [
            "Cloning into 'scikit-fuzzy'...\n",
            "remote: Enumerating objects: 2530, done.\u001b[K\n",
            "remote: Counting objects: 100% (22/22), done.\u001b[K\n",
            "remote: Compressing objects: 100% (22/22), done.\u001b[K\n",
            "remote: Total 2530 (delta 10), reused 3 (delta 0), pack-reused 2508\u001b[K\n",
            "Receiving objects: 100% (2530/2530), 5.01 MiB | 13.99 MiB/s, done.\n",
            "Resolving deltas: 100% (1524/1524), done.\n"
          ],
          "name": "stdout"
        }
      ]
    },
    {
      "cell_type": "code",
      "metadata": {
        "id": "uUP3UwtLO7b3",
        "outputId": "d2069929-0193-4175-b46d-33270f062692",
        "colab": {
          "base_uri": "https://localhost:8080/"
        }
      },
      "source": [
        "#удаление и установка пакета из репозитория заново\n",
        "!rm -r scikit-fuzzy/\n",
        "!git clone https://github.com/my000own000files1/scikit-fuzzy.git\n",
        "!cd scikit-fuzzy/\n",
        "!pip install -e ."
      ],
      "execution_count": 109,
      "outputs": [
        {
          "output_type": "stream",
          "text": [
            "Cloning into 'scikit-fuzzy'...\n",
            "remote: Enumerating objects: 2535, done.\u001b[K\n",
            "remote: Counting objects: 100% (27/27), done.\u001b[K\n",
            "remote: Compressing objects: 100% (27/27), done.\u001b[K\n",
            "remote: Total 2535 (delta 14), reused 3 (delta 0), pack-reused 2508\u001b[K\n",
            "Receiving objects: 100% (2535/2535), 5.01 MiB | 12.67 MiB/s, done.\n",
            "Resolving deltas: 100% (1528/1528), done.\n",
            "\u001b[31mERROR: File \"setup.py\" not found. Directory cannot be installed in editable mode: /content\u001b[0m\n"
          ],
          "name": "stdout"
        }
      ]
    },
    {
      "cell_type": "code",
      "metadata": {
        "id": "9AmxAi1YMpda",
        "outputId": "ed62dbca-a286-4272-deaf-6e30276f8da2",
        "colab": {
          "base_uri": "https://localhost:8080/"
        }
      },
      "source": [
        "cd scikit-fuzzy/"
      ],
      "execution_count": 111,
      "outputs": [
        {
          "output_type": "stream",
          "text": [
            "/content/scikit-fuzzy\n"
          ],
          "name": "stdout"
        }
      ]
    },
    {
      "cell_type": "code",
      "metadata": {
        "id": "vu6i92HCNi8O",
        "outputId": "51c2e4ad-e790-4315-a900-e4d3875bff38",
        "colab": {
          "base_uri": "https://localhost:8080/"
        }
      },
      "source": [
        "cd .."
      ],
      "execution_count": 117,
      "outputs": [
        {
          "output_type": "stream",
          "text": [
            "/content\n"
          ],
          "name": "stdout"
        }
      ]
    },
    {
      "cell_type": "code",
      "metadata": {
        "id": "RZkavv50Q4HD",
        "outputId": "03dcadc4-5ee7-412f-e030-4542b5340dd5",
        "colab": {
          "base_uri": "https://localhost:8080/"
        }
      },
      "source": [
        "cd content/"
      ],
      "execution_count": 77,
      "outputs": [
        {
          "output_type": "stream",
          "text": [
            "/content\n"
          ],
          "name": "stdout"
        }
      ]
    },
    {
      "cell_type": "code",
      "metadata": {
        "id": "WLoa8RzrNoHo"
      },
      "source": [
        "rm -r scikit-fuzzy/"
      ],
      "execution_count": 120,
      "outputs": []
    },
    {
      "cell_type": "code",
      "metadata": {
        "id": "CAIJCb43Rt4s",
        "outputId": "efb4805e-62c0-4f2c-8a60-5b587bfbda10",
        "colab": {
          "base_uri": "https://localhost:8080/"
        }
      },
      "source": [
        "cd skfuzzy/"
      ],
      "execution_count": 88,
      "outputs": [
        {
          "output_type": "stream",
          "text": [
            "/content/scikit-fuzzy/skfuzzy\n"
          ],
          "name": "stdout"
        }
      ]
    },
    {
      "cell_type": "code",
      "metadata": {
        "id": "_72w4tx1RzaC",
        "outputId": "2bfe203b-8b8d-4dbb-c410-4a5b7fc57928",
        "colab": {
          "base_uri": "https://localhost:8080/"
        }
      },
      "source": [
        "cd control"
      ],
      "execution_count": 90,
      "outputs": [
        {
          "output_type": "stream",
          "text": [
            "/content/scikit-fuzzy/skfuzzy/control\n"
          ],
          "name": "stdout"
        }
      ]
    },
    {
      "cell_type": "code",
      "metadata": {
        "id": "6Xj2nrP-R6wE"
      },
      "source": [
        "edit controlsystem.py"
      ],
      "execution_count": 96,
      "outputs": []
    },
    {
      "cell_type": "code",
      "metadata": {
        "id": "QylPf7fuM4EY",
        "outputId": "99a69bb9-7479-4a08-ca25-4fe5e18b949d",
        "colab": {
          "base_uri": "https://localhost:8080/"
        }
      },
      "source": [
        "ls"
      ],
      "execution_count": 121,
      "outputs": [
        {
          "output_type": "stream",
          "text": [
            "\u001b[0m\u001b[01;34msample_data\u001b[0m/\n"
          ],
          "name": "stdout"
        }
      ]
    },
    {
      "cell_type": "code",
      "metadata": {
        "id": "fZKzIex_MDr2",
        "outputId": "13be8d81-a180-43c7-cde8-36c76159f508",
        "colab": {
          "base_uri": "https://localhost:8080/"
        }
      },
      "source": [
        "!pip install -e ."
      ],
      "execution_count": 118,
      "outputs": [
        {
          "output_type": "stream",
          "text": [
            "\u001b[31mERROR: File \"setup.py\" not found. Directory cannot be installed in editable mode: /content\u001b[0m\n"
          ],
          "name": "stdout"
        }
      ]
    },
    {
      "cell_type": "code",
      "metadata": {
        "colab": {
          "base_uri": "https://localhost:8080/",
          "height": 228
        },
        "id": "lMgtSvMC_5A0",
        "outputId": "296d48fd-ff62-434f-bcbe-925473868c71"
      },
      "source": [
        "!pip install -U scikit-fuzzy"
      ],
      "execution_count": 122,
      "outputs": [
        {
          "output_type": "stream",
          "text": [
            "Processing /root/.cache/pip/wheels/b9/4e/77/da79b16f64ef1738d95486e2731eea09d73e90a72465096600/scikit_fuzzy-0.4.2-cp37-none-any.whl\n",
            "Requirement already satisfied, skipping upgrade: numpy>=1.6.0 in /usr/local/lib/python3.7/dist-packages (from scikit-fuzzy) (1.19.5)\n",
            "Requirement already satisfied, skipping upgrade: networkx>=1.9.0 in /usr/local/lib/python3.7/dist-packages (from scikit-fuzzy) (2.5.1)\n",
            "Requirement already satisfied, skipping upgrade: scipy>=0.9.0 in /usr/local/lib/python3.7/dist-packages (from scikit-fuzzy) (1.4.1)\n",
            "Requirement already satisfied, skipping upgrade: decorator<5,>=4.3 in /usr/local/lib/python3.7/dist-packages (from networkx>=1.9.0->scikit-fuzzy) (4.4.2)\n",
            "Installing collected packages: scikit-fuzzy\n",
            "Successfully installed scikit-fuzzy-0.4.2\n"
          ],
          "name": "stdout"
        },
        {
          "output_type": "display_data",
          "data": {
            "application/vnd.colab-display-data+json": {
              "pip_warning": {
                "packages": [
                  "skfuzzy"
                ]
              }
            }
          },
          "metadata": {
            "tags": []
          }
        }
      ]
    },
    {
      "cell_type": "markdown",
      "metadata": {
        "id": "eWV4kWVzajH0"
      },
      "source": [
        "Сгенерировали нечёткую систему:"
      ]
    },
    {
      "cell_type": "code",
      "metadata": {
        "id": "uHrvuKgIaYuu",
        "colab": {
          "base_uri": "https://localhost:8080/",
          "height": 544
        },
        "outputId": "00e7db6c-068c-4ff9-cb28-006efa2fcd2e"
      },
      "source": [
        "import numpy as np\n",
        "import skfuzzy as fuzz\n",
        "from skfuzzy import control as ctrl\n",
        "import matplotlib.pyplot as plt\n",
        "\n",
        "# New Antecedent/Consequent objects hold universe variables and membership\n",
        "# functions\n",
        "N=10000 # нужно для приближения к Singletons\n",
        "step=1/N\n",
        "X = ctrl.Antecedent(np.arange(-20, 21, 1), 'X')\n",
        "Y = ctrl.Consequent(np.linspace(0, 1, int(N+1)), 'Y')\n",
        "\n",
        "# Custom membership functions can be built interactively with a familiar,\n",
        "# Pythonic API\n",
        "cuant = ['NL','NS','NULL','PS','PL']\n",
        "X[cuant[0]] = fuzz.trimf(X.universe, [-20, -20, -2])\n",
        "X[cuant[1]] = fuzz.trimf(X.universe, [-20, -2, 0])\n",
        "X[cuant[2]] = fuzz.trimf(X.universe, [-2, 0,2])\n",
        "X[cuant[3]] = fuzz.trimf(X.universe, [0, 2, 20])\n",
        "X[cuant[4]] = fuzz.trimf(X.universe, [2, 20, 20])\n",
        "\n",
        "step = 0.1\n",
        "Y[cuant[0]] = fuzz.trimf(Y.universe, [0, 0, 0+step])\n",
        "Y[cuant[1]] = fuzz.trimf(Y.universe, [0.1-step, 0.1, 0.1+step])\n",
        "Y[cuant[2]] = fuzz.trimf(Y.universe, [0.5-step, 0.5, 0.5+step])\n",
        "Y[cuant[3]] = fuzz.trimf(Y.universe, [0.9-step, 0.9, 0.9+step])\n",
        "Y[cuant[4]] = fuzz.trimf(Y.universe, [1-step, 1, 1])\n",
        "\n",
        "# You can see how these look with .view()\n",
        "X.view()\n",
        "Y.view()"
      ],
      "execution_count": 84,
      "outputs": [
        {
          "output_type": "display_data",
          "data": {
            "image/png": "[encoded data removed]",
            "text/plain": [
              "<Figure size 432x288 with 1 Axes>"
            ]
          },
          "metadata": {
            "tags": [],
            "needs_background": "light"
          }
        },
        {
          "output_type": "display_data",
          "data": {
            "image/png": "[encoded data removed]",
            "text/plain": [
              "<Figure size 432x288 with 1 Axes>"
            ]
          },
          "metadata": {
            "tags": [],
            "needs_background": "light"
          }
        }
      ]
    },
    {
      "cell_type": "code",
      "metadata": {
        "id": "iBr2L0ynHBuV"
      },
      "source": [
        "#создание базы правил нечеткой системы\n",
        "#Fuzzy rules\n",
        "rule1 = ctrl.Rule(X[cuant[0]], Y[cuant[4]])\n",
        "rule2 = ctrl.Rule(X[cuant[1]], Y[cuant[3]])\n",
        "rule3 = ctrl.Rule(X[cuant[2]], Y[cuant[2]])\n",
        "rule4 = ctrl.Rule(X[cuant[3]], Y[cuant[1]])\n",
        "rule5 = ctrl.Rule(X[cuant[4]], Y[cuant[0]])"
      ],
      "execution_count": 85,
      "outputs": []
    },
    {
      "cell_type": "code",
      "metadata": {
        "colab": {
          "base_uri": "https://localhost:8080/",
          "height": 294
        },
        "id": "-qW1ar_ZKrYH",
        "outputId": "87d30430-5c93-4c3b-9223-d9e6b023f65b"
      },
      "source": [
        "#Control System Creation and Simulation\n",
        "sys_ctrl = ctrl.ControlSystem([rule1, rule2, rule3, rule4 , rule5])\n",
        "sys_sim = ctrl.ControlSystemSimulation(sys_ctrl)"
      ],
      "execution_count": 114,
      "outputs": [
        {
          "output_type": "display_data",
          "data": {
            "image/png": "[encoded data removed]",
            "text/plain": [
              "<Figure size 432x288 with 1 Axes>"
            ]
          },
          "metadata": {
            "tags": [],
            "needs_background": "light"
          }
        }
      ]
    },
    {
      "cell_type": "code",
      "metadata": {
        "id": "1N3BccKOUQil"
      },
      "source": [
        "N = 1000 ; # кол-во точек в линейной функции входа \n",
        "x_min=-20\n",
        "x_max=20\n",
        "#step = (x_max-x_min)/N\n",
        "x_in = np.linspace(x_min,x_max,N+1) #формируем входной массив для x для построения графика\n",
        "y_out = []\n",
        "for x in x_in:\n",
        "  sys_sim.input['X'] = x\n",
        "  sys_sim.compute()\n",
        "  y_out.extend([sys_sim.output['Y']])\n",
        "\n",
        "fig = plt.figure()\n",
        "plt.plot(x_in, y_out)\n",
        "plt.title('Статическая характеристика нечёткого регулятора')\n",
        "plt.ylabel('Y')\n",
        "plt.xlabel('X')\n",
        "plt.grid(True)"
      ],
      "execution_count": null,
      "outputs": []
    },
    {
      "cell_type": "code",
      "metadata": {
        "id": "ItDNEeLSLhOL",
        "outputId": "a89c456b-8b76-4296-805e-55d374b60d06",
        "colab": {
          "base_uri": "https://localhost:8080/",
          "height": 298
        }
      },
      "source": [
        "sys_sim.input['X'] = -10\n",
        "sys_sim.compute()\n",
        "\n",
        "print( sys_sim.output['Y'])\n",
        "Y.view(sim=sys_sim)"
      ],
      "execution_count": 113,
      "outputs": [
        {
          "output_type": "stream",
          "text": [
            "0.909335369091019\n"
          ],
          "name": "stdout"
        },
        {
          "output_type": "display_data",
          "data": {
            "image/png": "[encoded data removed]",
            "text/plain": [
              "<Figure size 432x288 with 1 Axes>"
            ]
          },
          "metadata": {
            "tags": [],
            "needs_background": "light"
          }
        }
      ]
    }
  ]
}